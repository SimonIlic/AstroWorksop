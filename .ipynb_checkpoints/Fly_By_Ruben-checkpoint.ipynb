{
 "cells": [
  {
   "cell_type": "code",
   "execution_count": 2,
   "metadata": {},
   "outputs": [],
   "source": [
    "import rebound\n",
    "import numpy as np\n",
    "\n",
    "from IPython.display import display, clear_output\n",
    "import matplotlib.pyplot as plt"
   ]
  },
  {
   "cell_type": "code",
   "execution_count": 3,
   "metadata": {},
   "outputs": [
    {
     "name": "stdout",
     "output_type": "stream",
     "text": [
      "Searching NASA Horizons for 'Sun'... Found: Sun (10).\n",
      "Searching NASA Horizons for 'Jupiter'... Found: Jupiter Barycenter (5).\n",
      "Searching NASA Horizons for 'Saturn'... Found: Saturn Barycenter (6).\n",
      "Searching NASA Horizons for 'Uranus'... Found: Uranus Barycenter (7).\n",
      "Searching NASA Horizons for 'Neptune'... Found: Neptune Barycenter (8).\n",
      "---------------------------------\n",
      "REBOUND version:     \t3.7.2\n",
      "REBOUND built on:    \tJan 24 2019 14:05:33\n",
      "Number of particles: \t5\n",
      "Selected integrator: \tias15\n",
      "Simulation time:     \t0.0000000000000000e+00\n",
      "Current timestep:    \t0.001000\n",
      "---------------------------------\n",
      "<rebound.Particle object, m=1.0 x=-0.0009979552171375345 y=0.0074851912994185355 z=-5.115483879231109e-05 vx=-0.0004661341633743573 vy=9.923402801946256e-05 vz=1.2015811394478916e-05>\n",
      "<rebound.Particle object, m=0.0009547919152112404 x=-1.925013914514134 y=-4.974390587906727 z=0.06369122886487044 vx=0.4038402956980928 vy=-0.13739789366672622 vz=-0.008463510185896882>\n",
      "<rebound.Particle object, m=0.0002858856727222417 x=2.1160295429049825 y=-9.825749502048975 z=0.08661346226742377 vx=0.2991681400483324 vy=0.06725655696766433 vz=-0.013078477394325737>\n",
      "<rebound.Particle object, m=4.36624373583127e-05 x=16.95224312145283 y=10.347489656439281 z=-0.18118770671544884 vx=-0.120800419437405 vy=0.18450049902384147 vz=0.002250257715297758>\n",
      "<rebound.Particle object, m=5.151383772628674e-05 x=29.004773599164583 y=-7.387914716064144 z=-0.5163040696878249 vx=0.04383080114110929 vy=0.17792378255523145 vz=-0.0046740972651002225>\n",
      "---------------------------------\n"
     ]
    }
   ],
   "source": [
    "sim = rebound.Simulation()\n",
    "particle_names = [\"Sun\", \"Jupiter\", \"Saturn\", \"Uranus\", \"Neptune\"]\n",
    "# we use the NASA horizon database to look up the Sun and planets\n",
    "sim.add(particle_names)\n",
    "\n",
    "# let's give all the particles a unique hash (based on its name)\n",
    "for i, particle in enumerate(sim.particles):\n",
    "    particle.hash = particle_names[i]\n",
    "\n",
    "sim.status()"
   ]
  },
  {
   "cell_type": "code",
   "execution_count": 4,
   "metadata": {},
   "outputs": [],
   "source": [
    "sim.save(\"solar_system_outer_planets.bin\")\n",
    "\n",
    "sim = rebound.Simulation.from_file(\"solar_system_outer_planets.bin\")"
   ]
  },
  {
   "cell_type": "code",
   "execution_count": 5,
   "metadata": {},
   "outputs": [],
   "source": [
    "def simulate_fly_by(sim, intruder, visualize=False):\n",
    "    intruder.hash = \"intruder\"\n",
    "    \n",
    "    sim.add(intruder)\n",
    "    \n",
    "    intruder_distance = np.linalg.norm(sim.particles[\"intruder\"].xyz)\n",
    "    sim.exit_max_distance = intruder_distance*1.01\n",
    "    \n",
    "    while True:\n",
    "        try:\n",
    "            sim.integrate(sim.t+5)\n",
    "            \n",
    "            if visualize:\n",
    "                fig = rebound.OrbitPlot(sim,color=True,unitlabel=\"[AU]\")\n",
    "                display(fig)\n",
    "                plt.close(fig)\n",
    "                clear_output(wait=True)\n",
    "\n",
    "        except rebound.Escape as error:\n",
    "            #print(error)\n",
    "            for i, particle in enumerate(sim.particles):\n",
    "                distance = np.linalg.norm(particle.xyz)\n",
    "                if distance > sim.exit_max_distance:\n",
    "                    #print(\"Removed\", i, str(particle.hash))\n",
    "                    sim.remove(hash=particle.hash)\n",
    "                    sim.move_to_com()\n",
    "                    \n",
    "            return sim\n"
   ]
  },
  {
   "cell_type": "code",
   "execution_count": 6,
   "metadata": {},
   "outputs": [],
   "source": [
    "def calc_escape_velocity(sim, particle):\n",
    "    #sim.move_to_hel()\n",
    "    \n",
    "    r = np.linalg.norm(particle.xyz)\n",
    "    G = sim.G\n",
    "    m = sim.particles[0].m\n",
    "    \n",
    "    return np.sqrt(2 * G * m / r)"
   ]
  },
  {
   "cell_type": "code",
   "execution_count": 7,
   "metadata": {},
   "outputs": [],
   "source": [
    "def strong_regime(resolution=100, n_trials=50):\n",
    "    print(\"Starting strong regime simulation with resolution {}, {} trials each...\".format(resolution, n_trials))\n",
    "    xs = np.linspace(1, 50, resolution)\n",
    "    f_eject = np.ones(resolution)\n",
    "    \n",
    "    for i, x in enumerate(xs):\n",
    "        print(\"Running r_min =\", x)\n",
    "        eject_count = 0.\n",
    "        \n",
    "        # run n_trials trials detecting ejection directly after fly-by\n",
    "        for j in range(n_trials):\n",
    "            # get a fresh simulation\n",
    "            sim = rebound.Simulation.from_file(\"solar_system_outer_planets.bin\")\n",
    "            sim = randomize_sim(sim)\n",
    "            \n",
    "            intruder = rebound.Particle(m=1.,x=x,y=-1000.,vy=2.)\n",
    "            \n",
    "            sim = simulate_fly_by(sim, intruder)\n",
    "            \n",
    "            sim.move_to_hel()\n",
    "            for particle in sim.particles:\n",
    "                v = np.linalg.norm(particle.vxyz)\n",
    "                v_esc = calc_escape_velocity(sim, particle)\n",
    "                if v > v_esc:\n",
    "                    eject_count += 1\n",
    "                    break\n",
    "        print(\"Detected\", eject_count, \"ejections out of\", n_trials, \"trials.\")\n",
    "        f_eject[i] = eject_count / n_trials\n",
    "        print(f_eject[i])\n",
    "\n",
    "    \n",
    "    return (xs, f_eject)      "
   ]
  },
  {
   "cell_type": "code",
   "execution_count": 8,
   "metadata": {},
   "outputs": [],
   "source": [
    "def calc_mutual_hill_radius(p1, p2, m_host):\n",
    "    \"\"\"\n",
    "    Calculates mutual Hill radius of particle 1 and 2.\n",
    "    \"\"\"\n",
    "    mutual_hill_radius = (p1.a + p2.a) / 2. * np.cbrt((p1.m + p2.m) / (3. * m_host))\n",
    "    return mutual_hill_radius\n",
    "    "
   ]
  },
  {
   "cell_type": "code",
   "execution_count": 9,
   "metadata": {},
   "outputs": [],
   "source": [
    "def orbit_list(simulation, period, particle, step_size):\n",
    "    \"\"\"\n",
    "    Creates list of points on an orbit.\n",
    "    \"\"\"\n",
    "    locations = []\n",
    "    total_time = 0\n",
    "#     Temporary simulation, adding sun and the particle we want the orbit from\n",
    "    temp_sim = rebound.Simulation()\n",
    "    temp_sim.add(simulation.particles[0])\n",
    "    temp_sim.add(particle)\n",
    "    particle = temp_sim.particles[1]\n",
    "#     Integrating over exactly one orbit\n",
    "    while total_time < period:\n",
    "        temp_sim.integrate(temp_sim.t+step_size)\n",
    "        total_time += step_size\n",
    "        locations.append(particle.xyz)\n",
    "        \n",
    "    return np.array(locations)\n"
   ]
  },
  {
   "cell_type": "code",
   "execution_count": 10,
   "metadata": {},
   "outputs": [],
   "source": [
    "def check_orbit_crossing(simulation):\n",
    "    \"\"\"\n",
    "    Checks in a simulation whether any orbits cross.\n",
    "    \"\"\"\n",
    "    \n",
    "#     Creating and saving lists with points on orbits\n",
    "    locationslist = []\n",
    "    for i, particle in enumerate(simulation.particles[1:]):\n",
    "        orbit = particle.calculate_orbit()\n",
    "        step_size = orbit.P * orbit.rhill / (2 * np.pi * orbit.a)\n",
    "        locationslist.append(orbit_list(simulation, \n",
    "                                        orbit.P, particle, step_size))\n",
    "\n",
    "#     creating distance matrix\n",
    "    for i, loc1 in enumerate(locationslist):\n",
    "        for j, loc2 in enumerate(locationslist[i+1:]): \n",
    "            dist_mat = spatial.distance_matrix(loc1, loc2)\n",
    "            if dist_mat[np.where(dist_mat < mutual_rhill(simulation.particles[i+1], \n",
    "                                                         simulation.particles[j+i+2]))].size > 0:\n",
    "                print(f\"Planet {i+1} and {i+j+2} (counting from star) will collide!\")\n",
    "                return True\n",
    "            \n",
    "    return False"
   ]
  },
  {
   "cell_type": "code",
   "execution_count": 11,
   "metadata": {},
   "outputs": [
    {
     "name": "stdout",
     "output_type": "stream",
     "text": [
      "---------------------------------\n",
      "REBOUND version:     \t3.7.2\n",
      "REBOUND built on:    \tJan 24 2019 14:05:33\n",
      "Number of particles: \t5\n",
      "Selected integrator: \tias15\n",
      "Simulation time:     \t0.0000000000000000e+00\n",
      "Current timestep:    \t0.001000\n",
      "---------------------------------\n",
      "<rebound.Particle object, m=1.0 x=-0.0009979552171375345 y=0.0074851912994185355 z=-5.115483879231109e-05 vx=-0.0004661341633743573 vy=9.923402801946256e-05 vz=1.2015811394478916e-05>\n",
      "<rebound.Particle object, m=0.0009547919152112404 x=-1.925013914514134 y=-4.974390587906727 z=0.06369122886487044 vx=0.4038402956980928 vy=-0.13739789366672622 vz=-0.008463510185896882>\n",
      "<rebound.Particle object, m=0.0002858856727222417 x=2.1160295429049825 y=-9.825749502048975 z=0.08661346226742377 vx=0.2991681400483324 vy=0.06725655696766433 vz=-0.013078477394325737>\n",
      "<rebound.Particle object, m=4.36624373583127e-05 x=16.95224312145283 y=10.347489656439281 z=-0.18118770671544884 vx=-0.120800419437405 vy=0.18450049902384147 vz=0.002250257715297758>\n",
      "<rebound.Particle object, m=5.151383772628674e-05 x=29.004773599164583 y=-7.387914716064144 z=-0.5163040696878249 vx=0.04383080114110929 vy=0.17792378255523145 vz=-0.0046740972651002225>\n",
      "---------------------------------\n"
     ]
    }
   ],
   "source": [
    "sim.status()\n",
    "\n",
    "#orbit = particle.calculate_orbit()\n"
   ]
  },
  {
   "cell_type": "code",
   "execution_count": 23,
   "metadata": {},
   "outputs": [
    {
     "name": "stdout",
     "output_type": "stream",
     "text": [
      "<rebound.Particle object, m=0.0009547919152112404 x=-1.925013914514134 y=-4.974390587906727 z=0.06369122886487044 vx=0.4038402956980928 vy=-0.13739789366672622 vz=-0.008463510185896882>\n",
      "<rebound.Particle object, m=0.0002858856727222417 x=2.1160295429049825 y=-9.825749502048975 z=0.08661346226742377 vx=0.2991681400483324 vy=0.06725655696766433 vz=-0.013078477394325737>\n",
      "<rebound.Particle object, m=4.36624373583127e-05 x=16.95224312145283 y=10.347489656439281 z=-0.18118770671544884 vx=-0.120800419437405 vy=0.18450049902384147 vz=0.002250257715297758>\n",
      "<rebound.Particle object, m=5.151383772628674e-05 x=29.004773599164583 y=-7.387914716064144 z=-0.5163040696878249 vx=0.04383080114110929 vy=0.17792378255523145 vz=-0.0046740972651002225>\n",
      "1.3616402529814415e-07\n"
     ]
    }
   ],
   "source": [
    "sum_AMD = 0\n",
    "import math\n",
    "for i, particle in enumerate(sim.particles[1:]):\n",
    "    print(particle)\n",
    "    orbit = particle.calculate_orbit()\n",
    "    #sum_AMD += particle.m * math.sqrt(particle.m / 1.0 * particle.m) (1 - math.sqrt(1 - (particle.ecc)**2)) particle.inc\n",
    "        \n",
    "    sum_AMD += (particle.m * math.sqrt( (particle.m/(particle.m+1)) * orbit.a)) * (1 - math.sqrt(1 - (orbit.e)**2) * math.cos(particle.inc))\n",
    "print(sum_AMD)"
   ]
  },
  {
   "cell_type": "markdown",
   "metadata": {},
   "source": [
    "Let's calculate the AMD, and put all of the AMD in the orbits of any pair, and check whether the orbits will cross, in that case: (plausible) unstable. Or: if not: AMD-stable."
   ]
  },
  {
   "cell_type": "code",
   "execution_count": 24,
   "metadata": {},
   "outputs": [
    {
     "ename": "SyntaxError",
     "evalue": "unexpected EOF while parsing (<ipython-input-24-66319ec238ff>, line 24)",
     "output_type": "error",
     "traceback": [
      "\u001b[0;36m  File \u001b[0;32m\"<ipython-input-24-66319ec238ff>\"\u001b[0;36m, line \u001b[0;32m24\u001b[0m\n\u001b[0;31m    \u001b[0m\n\u001b[0m    ^\u001b[0m\n\u001b[0;31mSyntaxError\u001b[0m\u001b[0;31m:\u001b[0m unexpected EOF while parsing\n"
     ]
    }
   ],
   "source": [
    "import math\n",
    "def check_amd_stability(sim):\n",
    "    \"\"\"\n",
    "    Checks in a simulation the total AMD, \n",
    "    and puts this total AMD in orbits of any pair (how?...),\n",
    "    and checks if the orbits would cross.\n",
    "    \"\"\"\n",
    "    \n",
    "    # calculate AMD of the system:\n",
    "    \n",
    "    sum_AMD = 0\n",
    "    \n",
    "    for i, particle in enumerate(sim.particles[1:]):\n",
    "        orbit = particle.calculate_orbit()\n",
    "        #sum_AMD += particle.m * math.sqrt(particle.m / 1.0 * orbit.a) * (1 - math.sqrt(1 - (orbit.e)**2)) * math.cos(particle.inc)\n",
    "        sum_AMD += (particle.m * math.sqrt( (particle.m/(particle.m+1)) * orbit.a)) * (1 - math.sqrt(1 - (orbit.e)**2) * math.cos(particle.inc))\n",
    "\n",
    "        \n",
    "    # put this constant AMD into orbits of any pair, and check if one of the eccentricities can be high enough for orbit crossing to occur,\n",
    "    \n",
    "    for particle1 in enumerate(sim.particles[1:]):\n",
    "        \n",
    "        #for particle2 in enumerate(sim.particles[1:]):\n",
    "            \n",
    "        for e in range(0.2,.8, 0.1):\n",
    "            i = \n",
    "                \n",
    "                "
   ]
  },
  {
   "cell_type": "markdown",
   "metadata": {},
   "source": [
    "Let's define a function to predict the stabillity of a system directly after a fly-by.\n",
    "\n",
    "Instabillity can be defined in a number of ways. The simplest being direct ejection from the system.\n",
    "\n",
    "This function will try to analyze the stability of a system based on direct observations of it's properties."
   ]
  },
  {
   "cell_type": "code",
   "execution_count": null,
   "metadata": {},
   "outputs": [],
   "source": [
    "def analyze_stability(sim):\n",
    "    \n",
    "    if check_immediate_ejection(sim) == True:\n",
    "        return False\n",
    "    \n",
    "    elif check_orbit_crossing(sim) == True:\n",
    "        return False\n",
    "    \n",
    "    elif check_kozai(sim) == True:\n",
    "        return False\n",
    "    \n",
    "    elif check_AMD(sim) == True:\n",
    "        return False\n",
    "    \n",
    "    else:\n",
    "        return True\n",
    "    \n",
    "    \n",
    "    "
   ]
  },
  {
   "cell_type": "code",
   "execution_count": null,
   "metadata": {},
   "outputs": [],
   "source": [
    "def check_immediate_ejection(sim):\n",
    "    # move to Sun frame\n",
    "    sim.move_to_hel()\n",
    "    \n",
    "    # calculate velocity of each particle and compare to escpae velocity\n",
    "    for particle in sim.particles:\n",
    "        v = np.linalg.norm(particle.vxyz)\n",
    "        v_esc = calc_escape_velocity(sim, particle)\n",
    "        if v >= v_esc:\n",
    "            return True\n",
    "    \n",
    "    return False\n",
    "    "
   ]
  },
  {
   "cell_type": "code",
   "execution_count": null,
   "metadata": {},
   "outputs": [],
   "source": [
    "#xs, f_eject = strong_regime(resolution=30, n_trials=5000)\n",
    "\n",
    "#plt.plot(xs, f_eject)"
   ]
  },
  {
   "cell_type": "code",
   "execution_count": null,
   "metadata": {},
   "outputs": [],
   "source": [
    "def randomize_sim(sim):\n",
    "    sim.integrate(np.random.random()*10**3)\n",
    "    return sim"
   ]
  },
  {
   "cell_type": "code",
   "execution_count": null,
   "metadata": {},
   "outputs": [],
   "source": [
    "sim = rebound.Simulation.from_file(\"solar_system_outer_planets.bin\")\n",
    "x=36.\n",
    "intruder = rebound.Particle(m=1.,x=x,y=-1000.,vy=2.)\n",
    "simulate_fly_by(sim, intruder, visualize=True)"
   ]
  },
  {
   "cell_type": "code",
   "execution_count": null,
   "metadata": {},
   "outputs": [],
   "source": []
  }
 ],
 "metadata": {
  "kernelspec": {
   "display_name": "Python 3",
   "language": "python",
   "name": "python3"
  },
  "language_info": {
   "codemirror_mode": {
    "name": "ipython",
    "version": 3
   },
   "file_extension": ".py",
   "mimetype": "text/x-python",
   "name": "python",
   "nbconvert_exporter": "python",
   "pygments_lexer": "ipython3",
   "version": "3.6.7"
  }
 },
 "nbformat": 4,
 "nbformat_minor": 2
}
