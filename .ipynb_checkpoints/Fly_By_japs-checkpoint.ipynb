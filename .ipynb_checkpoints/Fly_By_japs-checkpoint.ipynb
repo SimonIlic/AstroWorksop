{
 "cells": [
  {
   "cell_type": "markdown",
   "metadata": {},
   "source": [
    "# Simulating fly-bys"
   ]
  },
  {
   "cell_type": "markdown",
   "metadata": {},
   "source": [
    "This notebook will take you through a simulation of fly-bys of a star perturbing a planetary system."
   ]
  },
  {
   "cell_type": "markdown",
   "metadata": {},
   "source": [
    "### Imports"
   ]
  },
  {
   "cell_type": "code",
   "execution_count": 3,
   "metadata": {},
   "outputs": [],
   "source": [
    "import rebound\n",
    "import numpy as np\n",
    "\n",
    "from IPython.display import display, clear_output\n",
    "import matplotlib.pyplot as plt"
   ]
  },
  {
   "cell_type": "markdown",
   "metadata": {},
   "source": [
    "### Setup\n",
    "Let's first create a simulation of our target planetary system. We'll use Sun and the outer planets of our solar system for now. Using NASA Horizons database to get the details of each object."
   ]
  },
  {
   "cell_type": "markdown",
   "metadata": {},
   "source": [
    "sim = rebound.Simulation()\n",
    "particle_names = [\"Sun\", \"Jupiter\", \"Saturn\", \"Uranus\", \"Neptune\"]\n",
    "# we use the NASA horizon database to look up the Sun and planets\n",
    "sim.add(particle_names)\n",
    "\n",
    "# let's give all the particles a unique hash (based on its name)\n",
    "for i, particle in enumerate(sim.particles):\n",
    "        particle.hash = particle_names[i]\n",
    "\n",
    "sim.status()\n",
    "    "
   ]
  },
  {
   "cell_type": "markdown",
   "metadata": {},
   "source": [
    "Let's save this simulation for future reference."
   ]
  },
  {
   "cell_type": "markdown",
   "metadata": {},
   "source": [
    "sim.save(\"solar_system_outer_planets.bin\")"
   ]
  },
  {
   "cell_type": "code",
   "execution_count": null,
   "metadata": {},
   "outputs": [],
   "source": [
    "sim = rebound.Simulation.from_file(\"solar_system_outer_planets.bin\")"
   ]
  },
  {
   "cell_type": "markdown",
   "metadata": {},
   "source": [
    "Let's define a function that simulates a single fly-by given a certain system and a particle that will be intruding the system."
   ]
  },
  {
   "cell_type": "code",
   "execution_count": null,
   "metadata": {},
   "outputs": [],
   "source": [
    "def simulate_fly_by(sim, intruder, visualize=False):\n",
    "    intruder.hash = \"intruder\"\n",
    "    \n",
    "    sim.add(intruder)\n",
    "    \n",
    "    intruder_distance = np.linalg.norm(sim.particles[\"intruder\"].xyz)\n",
    "    sim.exit_max_distance = intruder_distance*1.01\n",
    "    \n",
    "    while True:\n",
    "        try:\n",
    "            sim.integrate(sim.t+5)\n",
    "            \n",
    "            if visualize:\n",
    "                fig = rebound.OrbitPlot(sim,color=True,unitlabel=\"[AU]\")\n",
    "                display(fig)\n",
    "                plt.close(fig)\n",
    "                clear_output(wait=True)\n",
    "\n",
    "        except rebound.Escape as error:\n",
    "            #print(error)\n",
    "            for i, particle in enumerate(sim.particles):\n",
    "                distance = np.linalg.norm(particle.xyz)\n",
    "                if distance > sim.exit_max_distance:\n",
    "                    #print(\"Removed\", i, str(particle.hash))\n",
    "                    sim.remove(hash=particle.hash)\n",
    "                    sim.move_to_com()\n",
    "                    \n",
    "            return sim\n"
   ]
  },
  {
   "cell_type": "code",
   "execution_count": null,
   "metadata": {},
   "outputs": [],
   "source": [
    "def calc_escape_velocity(sim, particle):\n",
    "    #sim.move_to_hel()\n",
    "    \n",
    "    r = np.linalg.norm(particle.xyz)\n",
    "    G = sim.G\n",
    "    m = sim.particles[0].m\n",
    "    \n",
    "    return np.sqrt(2 * G * m / r)"
   ]
  },
  {
   "cell_type": "code",
   "execution_count": null,
   "metadata": {},
   "outputs": [],
   "source": [
    "def strong_regime(resolution=100, n_trials=50):\n",
    "    print(\"Starting strong regime simulation with resolution {}, {} trials each...\".format(resolution, n_trials))\n",
    "    xs = np.linspace(1, 50, resolution)\n",
    "    f_eject = np.ones(resolution)\n",
    "    \n",
    "    for i, x in enumerate(xs):\n",
    "        print(\"Running r_min =\", x)\n",
    "        eject_count = 0.\n",
    "        \n",
    "        # run n_trials trials detecting ejection directly after fly-by\n",
    "        for j in range(n_trials):\n",
    "            # get a fresh simulation\n",
    "            sim = rebound.Simulation.from_file(\"solar_system_outer_planets.bin\")\n",
    "            sim = randomize_sim(sim)\n",
    "            \n",
    "            intruder = rebound.Particle(m=1.,x=x,y=-1000.,vy=2.)\n",
    "            \n",
    "            sim = simulate_fly_by(sim, intruder)\n",
    "            \n",
    "            sim.move_to_hel()\n",
    "            for particle in sim.particles:\n",
    "                v = np.linalg.norm(particle.vxyz)\n",
    "                v_esc = calc_escape_velocity(sim, particle)\n",
    "                if v > v_esc:\n",
    "                    eject_count += 1\n",
    "                    break\n",
    "        print(\"Detected\", eject_count, \"ejections out of\", n_trials, \"trials.\")\n",
    "        f_eject[i] = eject_count / n_trials\n",
    "        print(f_eject[i])\n",
    "\n",
    "    \n",
    "    return (xs, f_eject)            "
   ]
  },
  {
   "cell_type": "code",
   "execution_count": 4,
   "metadata": {},
   "outputs": [
    {
     "ename": "ModuleNotFoundError",
     "evalue": "No module named 'scipy'",
     "output_type": "error",
     "traceback": [
      "\u001b[0;31m---------------------------------------------------------------------------\u001b[0m",
      "\u001b[0;31mModuleNotFoundError\u001b[0m                       Traceback (most recent call last)",
      "\u001b[0;32m<ipython-input-4-97fd0c547cf6>\u001b[0m in \u001b[0;36m<module>\u001b[0;34m\u001b[0m\n\u001b[1;32m      1\u001b[0m \u001b[0;31m# function to check distances, returning 'True' if planets near eachother by mutual Hill radius\u001b[0m\u001b[0;34m\u001b[0m\u001b[0;34m\u001b[0m\u001b[0;34m\u001b[0m\u001b[0m\n\u001b[0;32m----> 2\u001b[0;31m \u001b[0;32mfrom\u001b[0m \u001b[0mscipy\u001b[0m \u001b[0;32mimport\u001b[0m \u001b[0mspatial\u001b[0m\u001b[0;34m\u001b[0m\u001b[0;34m\u001b[0m\u001b[0m\n\u001b[0m\u001b[1;32m      3\u001b[0m \u001b[0;34m\u001b[0m\u001b[0m\n\u001b[1;32m      4\u001b[0m \u001b[0;34m\u001b[0m\u001b[0m\n\u001b[1;32m      5\u001b[0m \u001b[0;32mdef\u001b[0m \u001b[0mmutual_rhill\u001b[0m\u001b[0;34m(\u001b[0m\u001b[0mp1\u001b[0m\u001b[0;34m,\u001b[0m \u001b[0mp2\u001b[0m\u001b[0;34m)\u001b[0m\u001b[0;34m:\u001b[0m\u001b[0;34m\u001b[0m\u001b[0;34m\u001b[0m\u001b[0m\n",
      "\u001b[0;31mModuleNotFoundError\u001b[0m: No module named 'scipy'"
     ]
    }
   ],
   "source": [
    "# function to check distances, returning 'True' if planets near eachother by mutual Hill radius\n",
    "from scipy import spatial\n",
    "\n",
    "\n",
    "def mutual_rhill(p1, p2):\n",
    "    \"\"\"\n",
    "    Calculates mutual Hill radius of particle 1 and 2.\n",
    "    \"\"\"\n",
    "    r_hill_m = (p1.a + p2.a) / 2. * ((p1.m + p2.m) / 3.)**(1/3.)\n",
    "    return r_hill_m\n",
    "    \n",
    "\n",
    "\n",
    "def check_orbit_crossing(simulation):\n",
    "    \"\"\"\n",
    "    Checks if orbits cross.\n",
    "    \"\"\"\n",
    "#     make distance matrix\n",
    "    locations = []\n",
    "    for particle in simulation.particles:\n",
    "        locations.append(particle.xyz)\n",
    "    dist_matrix = spatial.distance.pdist(locations, metric='euclidian')\n",
    "    \n",
    "#     only checking all values underneath diagonal, comparing to mutual r_hill\n",
    "    for i in range(len(simulation.particles)):\n",
    "        for j in range(i):\n",
    "            p1 = simulation.particles[i]\n",
    "            p2 = simulation.particles[j]\n",
    "            if mutual_rhill(p1, p2) >= dist_matrix[i][j]:\n",
    "                return True\n",
    "            \n",
    "    return False"
   ]
  },
  {
   "cell_type": "markdown",
   "metadata": {},
   "source": [
    "Let's define a function to predict the stabillity of a system directly after a fly-by.\n",
    "\n",
    "Instabillity can be defined in a number of ways. The simplest being direct ejection from the system.\n",
    "\n",
    "This function will try to analyze the stability of a system based on direct observations of it's properties."
   ]
  },
  {
   "cell_type": "code",
   "execution_count": null,
   "metadata": {},
   "outputs": [],
   "source": [
    "def analyze_stability(sim):\n",
    "    \n",
    "    if check_immediate_ejection(sim) == True:\n",
    "        return False\n",
    "    \n",
    "    elif check_orbit_crossing(sim) == True:\n",
    "        return False\n",
    "    \n",
    "    elif check_kozai(sim) == True:\n",
    "        return False\n",
    "    \n",
    "    elif check_AMD(sim) == True:\n",
    "        return False\n",
    "    \n",
    "    else:\n",
    "        return True\n",
    "    \n",
    "    \n",
    "    \n",
    "    \n",
    "    "
   ]
  },
  {
   "cell_type": "code",
   "execution_count": null,
   "metadata": {},
   "outputs": [],
   "source": [
    "def check_immediate_ejection(sim):\n",
    "    # move to Sun frame\n",
    "    sim.move_to_hel()\n",
    "    \n",
    "    # calculate velocity of each particle and compare to escpae velocity\n",
    "    for particle in sim.particles:\n",
    "        v = np.linalg.norm(particle.vxyz)\n",
    "        v_esc = calc_escape_velocity(sim, particle)\n",
    "        if v >= v_esc:\n",
    "            return True\n",
    "    \n",
    "    return False\n",
    "    \n"
   ]
  },
  {
   "cell_type": "code",
   "execution_count": null,
   "metadata": {},
   "outputs": [],
   "source": [
    "xs, f_eject = strong_regime(resolution=30, n_trials=5000)\n",
    "\n",
    "plt.plot(xs, f_eject)"
   ]
  },
  {
   "cell_type": "code",
   "execution_count": null,
   "metadata": {},
   "outputs": [],
   "source": [
    "plt.plot(xs, 1-f_eject)"
   ]
  },
  {
   "cell_type": "code",
   "execution_count": null,
   "metadata": {},
   "outputs": [],
   "source": [
    "a = np.ones(10)\n",
    "a[2] = 5\n",
    "a\n"
   ]
  },
  {
   "cell_type": "code",
   "execution_count": null,
   "metadata": {},
   "outputs": [],
   "source": [
    "def randomize_sim(sim):\n",
    "    sim.integrate(np.random.random()*10**3)\n",
    "    return sim\n",
    "    "
   ]
  },
  {
   "cell_type": "code",
   "execution_count": null,
   "metadata": {},
   "outputs": [],
   "source": [
    "sim = rebound.Simulation.from_file(\"solar_system_outer_planets.bin\")\n",
    "intruder = rebound.Particle(m=1.,x=x,y=-1000.,vy=2.)\n",
    "simulate_fly_by(sim, intruder, visualize=True)"
   ]
  }
 ],
 "metadata": {
  "kernelspec": {
   "display_name": "Python 3",
   "language": "python",
   "name": "python3"
  },
  "language_info": {
   "codemirror_mode": {
    "name": "ipython",
    "version": 3
   },
   "file_extension": ".py",
   "mimetype": "text/x-python",
   "name": "python",
   "nbconvert_exporter": "python",
   "pygments_lexer": "ipython3",
   "version": "3.6.7"
  }
 },
 "nbformat": 4,
 "nbformat_minor": 2
}
