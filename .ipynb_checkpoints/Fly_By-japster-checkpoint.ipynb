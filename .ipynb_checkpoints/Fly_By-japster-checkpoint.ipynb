{
 "cells": [
  {
   "cell_type": "code",
   "execution_count": null,
   "metadata": {},
   "outputs": [],
   "source": [
    "import rebound\n",
    "import numpy as np\n",
    "\n",
    "from IPython.display import display, clear_output\n",
    "import matplotlib.pyplot as plt\n",
    "\n",
    "sim = rebound.Simulation.from_file(\"system.bin\")\n",
    "\n",
    "def simulate_fly_by(sim, intruder):\n",
    "    m, peri_ast, v, i = intruder\n",
    "    sim.add(m=m, x=peri_ast, y=-500, vy=v, hash=\"intruder\")\n",
    "    \n",
    "    intruder_distance = np.linalg.norm(sim.particles[\"intruder\"].xyz)\n",
    "    sim.exit_max_distance = intruder_distance*1.01\n",
    "    \n",
    "    while sim.t < 10**6:\n",
    "        try:\n",
    "            sim.integrate(sim.t+5)\n",
    "            sim.move_to_hel()\n",
    "            for particle in sim.particles[:-1]:\n",
    "                v = np.linalg.norm(particle.vxyz) \n",
    "                v_esc = calc_escape_velocity(sim, particle)\n",
    "                if v > v_esc:\n",
    "                    print(\"Particle \" + str(particle.hash) + \" exceeds escape velocity:\")\n",
    "                    print(\"v = \", v, \" v_esc = \", v_esc)\n",
    "            \n",
    "            fig = rebound.OrbitPlot(sim,color=True,unitlabel=\"[AU]\")\n",
    "            display(fig)\n",
    "            plt.close(fig)\n",
    "            clear_output(wait=True)\n",
    "                    \n",
    "        except rebound.Escape as error:\n",
    "            print(error)\n",
    "            for particle in sim.particles:\n",
    "                distance = np.linalg.norm(particle.xyz)\n",
    "                if distance > sim.exit_max_distance:\n",
    "                    sim.status()\n",
    "                    print(\"Removed \" + str(particle.hash))\n",
    "                    sim.remove(hash=particle.hash)\n",
    "                    sim.move_to_hel()\n",
    "                    \n",
    "            \n",
    "    def calc_escape_velocity(sim, particle):\n",
    "    sim.move_to_hel()\n",
    "    \n",
    "    r = np.linalg.norm(particle.xyz)\n",
    "    G = sim.G\n",
    "    m = sim.particles[0].m\n",
    "    \n",
    "    return np.sqrt(2 * G * m / r)\n",
    "\n",
    "sim = rebound.Simulation.from_file(\"system.bin\")\n",
    "simulate_fly_by(sim, (3.,15,2.0,0))\n",
    "    \n"
   ]
  }
 ],
 "metadata": {
  "kernelspec": {
   "display_name": "Python 2",
   "language": "python",
   "name": "python2"
  },
  "language_info": {
   "codemirror_mode": {
    "name": "ipython",
    "version": 2
   },
   "file_extension": ".py",
   "mimetype": "text/x-python",
   "name": "python",
   "nbconvert_exporter": "python",
   "pygments_lexer": "ipython2",
   "version": "2.7.15rc1"
  }
 },
 "nbformat": 4,
 "nbformat_minor": 2
}
