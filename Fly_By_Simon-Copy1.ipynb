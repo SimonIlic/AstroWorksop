{
 "cells": [
  {
   "cell_type": "markdown",
   "metadata": {},
   "source": [
    "# Simulating fly-bys"
   ]
  },
  {
   "cell_type": "markdown",
   "metadata": {},
   "source": [
    "This notebook will take you through a simulation of fly-bys of a star perturbing a planetary system."
   ]
  },
  {
   "cell_type": "markdown",
   "metadata": {},
   "source": [
    "### Imports"
   ]
  },
  {
   "cell_type": "code",
   "execution_count": 1,
   "metadata": {},
   "outputs": [],
   "source": [
    "import rebound\n",
    "import numpy as np\n",
    "\n",
    "from IPython.display import display, clear_output\n",
    "import matplotlib.pyplot as plt"
   ]
  },
  {
   "cell_type": "markdown",
   "metadata": {},
   "source": [
    "### Setup\n",
    "Let's first create a simulation of our target planetary system. We'll use Sun and the outer planets of our solar system for now. Using NASA Horizons database to get the details of each object."
   ]
  },
  {
   "cell_type": "code",
   "execution_count": 2,
   "metadata": {},
   "outputs": [
    {
     "name": "stdout",
     "output_type": "stream",
     "text": [
      "Searching NASA Horizons for 'Sun'... Found: Sun (10).\n",
      "Searching NASA Horizons for 'Jupiter'... Found: Jupiter Barycenter (5).\n",
      "Searching NASA Horizons for 'Saturn'... Found: Saturn Barycenter (6).\n",
      "Searching NASA Horizons for 'Uranus'... Found: Uranus Barycenter (7).\n",
      "Searching NASA Horizons for 'Neptune'... Found: Neptune Barycenter (8).\n",
      "---------------------------------\n",
      "REBOUND version:     \t3.7.2\n",
      "REBOUND built on:    \tJan 24 2019 14:05:33\n",
      "Number of particles: \t5\n",
      "Selected integrator: \tias15\n",
      "Simulation time:     \t0.0000000000000000e+00\n",
      "Current timestep:    \t0.001000\n",
      "---------------------------------\n",
      "<rebound.Particle object, m=1.0 x=-0.0010296018911285748 y=0.007491843945648444 z=-5.0338806542252796e-05 vx=-0.00046729380932287236 vy=9.69817663118665e-05 vz=1.2053090155331886e-05>\n",
      "<rebound.Particle object, m=0.0009547919152112404 x=-1.8976017507080971 y=-4.98363191811409 z=0.06311638340287852 vx=0.40469113563917747 vy=-0.13517811884410247 vz=-0.008491760431943364>\n",
      "<rebound.Particle object, m=0.0002858856727222417 x=2.1363104436178575 y=-9.821166777582931 z=0.08572645295514135 vx=0.2990253819795803 vy=0.06791279677219692 vz=-0.013084227860357771>\n",
      "<rebound.Particle object, m=4.36624373583127e-05 x=16.94404701239115 y=10.359997065778678 z=-0.18103506999413996 vx=-0.12094727600358948 vy=0.18441081372855847 vz=0.0022518267773097935>\n",
      "<rebound.Particle object, m=5.151383772628674e-05 x=29.007743151580698 y=-7.375849581465782 z=-0.5166209625045295 vx=0.04375740278405025 vy=0.1779424635753641 vz=-0.004672790343620788>\n",
      "---------------------------------\n"
     ]
    }
   ],
   "source": [
    "sim = rebound.Simulation()\n",
    "particle_names = [\"Sun\", \"Jupiter\", \"Saturn\", \"Uranus\", \"Neptune\"]\n",
    "# we use the NASA horizon database to look up the Sun and planets\n",
    "sim.add(particle_names)\n",
    "\n",
    "# let's give all the particles a unique hash (based on its name)\n",
    "for i, particle in enumerate(sim.particles):\n",
    "        particle.hash = particle_names[i]\n",
    "\n",
    "sim.status()\n",
    "    "
   ]
  },
  {
   "cell_type": "markdown",
   "metadata": {},
   "source": [
    "Let's save this simulation for future reference."
   ]
  },
  {
   "cell_type": "code",
   "execution_count": 4,
   "metadata": {},
   "outputs": [],
   "source": [
    "sim.save(\"solar_system_outer_planets.bin\")"
   ]
  },
  {
   "cell_type": "code",
   "execution_count": 5,
   "metadata": {},
   "outputs": [],
   "source": [
    "sim = rebound.Simulation.from_file(\"solar_system_outer_planets.bin\")"
   ]
  },
  {
   "cell_type": "markdown",
   "metadata": {},
   "source": [
    "Let's define a function that simulates a single fly-by given a certain system and a particle that will be intruding the system."
   ]
  },
  {
   "cell_type": "code",
   "execution_count": 6,
   "metadata": {},
   "outputs": [],
   "source": [
    "def simulate_fly_by(sim, intruder, visualize=False):\n",
    "    intruder.hash = \"intruder\"\n",
    "    \n",
    "    sim.add(intruder)\n",
    "    \n",
    "    intruder_distance = np.linalg.norm(sim.particles[\"intruder\"].xyz)\n",
    "    sim.exit_max_distance = intruder_distance*1.01\n",
    "    \n",
    "    while True:\n",
    "        try:\n",
    "            sim.integrate(sim.t+5)\n",
    "            \n",
    "            if visualize:\n",
    "                fig = rebound.OrbitPlot(sim,color=True,unitlabel=\"[AU]\")\n",
    "                display(fig)\n",
    "                plt.close(fig)\n",
    "                clear_output(wait=True)\n",
    "\n",
    "        except rebound.Escape as error:\n",
    "            #print(error)\n",
    "            for i, particle in enumerate(sim.particles):\n",
    "                distance = np.linalg.norm(particle.xyz)\n",
    "                if distance > sim.exit_max_distance:\n",
    "                    #print(\"Removed\", i, str(particle.hash))\n",
    "                    sim.remove(hash=particle.hash)\n",
    "                    sim.move_to_com()\n",
    "                    \n",
    "            return sim\n"
   ]
  },
  {
   "cell_type": "code",
   "execution_count": 7,
   "metadata": {},
   "outputs": [],
   "source": [
    "def calc_escape_velocity(sim, particle):\n",
    "    #sim.move_to_hel()\n",
    "    \n",
    "    r = np.linalg.norm(particle.xyz)\n",
    "    G = sim.G\n",
    "    m = sim.particles[0].m\n",
    "    \n",
    "    return np.sqrt(2 * G * m / r)"
   ]
  },
  {
   "cell_type": "code",
   "execution_count": 8,
   "metadata": {},
   "outputs": [],
   "source": [
    "def strong_regime(resolution=100, n_trials=50):\n",
    "    print(\"Starting strong regime simulation with resolution {}, {} trials each...\".format(resolution, n_trials))\n",
    "    xs = np.linspace(1, 50, resolution)\n",
    "    f_eject = np.ones(resolution)\n",
    "    \n",
    "    for i, x in enumerate(xs):\n",
    "        print(\"Running r_min =\", x)\n",
    "        eject_count = 0.\n",
    "        \n",
    "        # run n_trials trials detecting ejection directly after fly-by\n",
    "        for j in range(n_trials):\n",
    "            # get a fresh simulation\n",
    "            sim = rebound.Simulation.from_file(\"solar_system_outer_planets.bin\")\n",
    "            sim = randomize_sim(sim)\n",
    "            \n",
    "            intruder = rebound.Particle(m=1.,x=x,y=-1000.,vy=2.)\n",
    "            \n",
    "            sim = simulate_fly_by(sim, intruder)\n",
    "            \n",
    "            sim.move_to_hel()\n",
    "            for particle in sim.particles:\n",
    "                v = np.linalg.norm(particle.vxyz)\n",
    "                v_esc = calc_escape_velocity(sim, particle)\n",
    "                if v > v_esc:\n",
    "                    eject_count += 1\n",
    "                    break\n",
    "        print(\"Detected\", eject_count, \"ejections out of\", n_trials, \"trials.\")\n",
    "        f_eject[i] = eject_count / n_trials\n",
    "        print(f_eject[i])\n",
    "\n",
    "    \n",
    "    return (xs, f_eject)            "
   ]
  },
  {
   "cell_type": "markdown",
   "metadata": {},
   "source": [
    "Let's define a function to predict the stabillity of a system directly after a fly-by.\n",
    "\n",
    "Instabillity can be defined in a number of ways. The simplest being direct ejection from the system.\n",
    "\n",
    "This function will try to analyze the stability of a system based on direct observations of it's orbits properties."
   ]
  },
  {
   "cell_type": "code",
   "execution_count": 9,
   "metadata": {},
   "outputs": [],
   "source": [
    "def analyze_stability(sim):\n",
    "    \n",
    "    if check_immediate_ejection(sim) == True:\n",
    "        return False\n",
    "    \n",
    "    elif check_orbit_crossing(sim) == True:\n",
    "        return False\n",
    "    \n",
    "    elif check_kozai(sim) == True:\n",
    "        return False\n",
    "    \n",
    "    elif check_AMD(sim) == True:\n",
    "        return False\n",
    "    \n",
    "    else:\n",
    "        return True\n",
    "    "
   ]
  },
  {
   "cell_type": "code",
   "execution_count": 10,
   "metadata": {},
   "outputs": [],
   "source": [
    "def check_immediate_ejection(sim):\n",
    "    # move to Sun frame\n",
    "    sim.move_to_hel()\n",
    "    \n",
    "    # calculate velocity of each particle and compare to escpae velocity\n",
    "    for particle in sim.particles:\n",
    "        v = np.linalg.norm(particle.vxyz)\n",
    "        v_esc = calc_escape_velocity(sim, particle)\n",
    "        if v >= v_esc:\n",
    "            return True\n",
    "    \n",
    "    return False\n",
    "    \n"
   ]
  },
  {
   "cell_type": "code",
   "execution_count": 11,
   "metadata": {},
   "outputs": [],
   "source": [
    "def check_kozai(sim):\n",
    "    # compare all particles\n",
    "    for i, particle_1 in enumerate(sim.particles[1:]):\n",
    "        for j, particle_2 in enumerate(sim.particles[i:]):\n",
    "            # calculate mutual inclination. defined as difference in inclination between two orbits\n",
    "            mutual_inclination = abs(particle_1.inc - particle_2.inc)\n",
    "            # check if mutual inclination is between 39.2 degrees and 140.2 degrees\n",
    "            if 0.684 <  mutual_inclination and mutual_inclination < 2.46:\n",
    "                return True\n",
    "    \n",
    "    return False\n",
    "            "
   ]
  },
  {
   "cell_type": "code",
   "execution_count": 13,
   "metadata": {},
   "outputs": [
    {
     "name": "stdout",
     "output_type": "stream",
     "text": [
      "Starting strong regime simulation with resolution 30, 5000 trials each...\n",
      "Running r_min = 1.0\n"
     ]
    },
    {
     "name": "stderr",
     "output_type": "stream",
     "text": [
      "/home/starman/.local/lib/python3.6/site-packages/ipykernel_launcher.py:8: RuntimeWarning: divide by zero encountered in double_scalars\n",
      "  \n"
     ]
    },
    {
     "ename": "KeyboardInterrupt",
     "evalue": "",
     "output_type": "error",
     "traceback": [
      "\u001b[0;31m---------------------------------------------------------------------------\u001b[0m",
      "\u001b[0;31mKeyboardInterrupt\u001b[0m                         Traceback (most recent call last)",
      "\u001b[0;32m<ipython-input-13-04c07c5b227f>\u001b[0m in \u001b[0;36m<module>\u001b[0;34m\u001b[0m\n\u001b[0;32m----> 1\u001b[0;31m \u001b[0mxs\u001b[0m\u001b[0;34m,\u001b[0m \u001b[0mf_eject\u001b[0m \u001b[0;34m=\u001b[0m \u001b[0mstrong_regime\u001b[0m\u001b[0;34m(\u001b[0m\u001b[0mresolution\u001b[0m\u001b[0;34m=\u001b[0m\u001b[0;36m30\u001b[0m\u001b[0;34m,\u001b[0m \u001b[0mn_trials\u001b[0m\u001b[0;34m=\u001b[0m\u001b[0;36m5000\u001b[0m\u001b[0;34m)\u001b[0m\u001b[0;34m\u001b[0m\u001b[0;34m\u001b[0m\u001b[0m\n\u001b[0m\u001b[1;32m      2\u001b[0m \u001b[0;34m\u001b[0m\u001b[0m\n\u001b[1;32m      3\u001b[0m \u001b[0mplt\u001b[0m\u001b[0;34m.\u001b[0m\u001b[0mplot\u001b[0m\u001b[0;34m(\u001b[0m\u001b[0mxs\u001b[0m\u001b[0;34m,\u001b[0m \u001b[0mf_eject\u001b[0m\u001b[0;34m)\u001b[0m\u001b[0;34m\u001b[0m\u001b[0;34m\u001b[0m\u001b[0m\n",
      "\u001b[0;32m<ipython-input-8-25866587a242>\u001b[0m in \u001b[0;36mstrong_regime\u001b[0;34m(resolution, n_trials)\u001b[0m\n\u001b[1;32m     16\u001b[0m             \u001b[0mintruder\u001b[0m \u001b[0;34m=\u001b[0m \u001b[0mrebound\u001b[0m\u001b[0;34m.\u001b[0m\u001b[0mParticle\u001b[0m\u001b[0;34m(\u001b[0m\u001b[0mm\u001b[0m\u001b[0;34m=\u001b[0m\u001b[0;36m1.\u001b[0m\u001b[0;34m,\u001b[0m\u001b[0mx\u001b[0m\u001b[0;34m=\u001b[0m\u001b[0mx\u001b[0m\u001b[0;34m,\u001b[0m\u001b[0my\u001b[0m\u001b[0;34m=\u001b[0m\u001b[0;34m-\u001b[0m\u001b[0;36m1000.\u001b[0m\u001b[0;34m,\u001b[0m\u001b[0mvy\u001b[0m\u001b[0;34m=\u001b[0m\u001b[0;36m2.\u001b[0m\u001b[0;34m)\u001b[0m\u001b[0;34m\u001b[0m\u001b[0;34m\u001b[0m\u001b[0m\n\u001b[1;32m     17\u001b[0m \u001b[0;34m\u001b[0m\u001b[0m\n\u001b[0;32m---> 18\u001b[0;31m             \u001b[0msim\u001b[0m \u001b[0;34m=\u001b[0m \u001b[0msimulate_fly_by\u001b[0m\u001b[0;34m(\u001b[0m\u001b[0msim\u001b[0m\u001b[0;34m,\u001b[0m \u001b[0mintruder\u001b[0m\u001b[0;34m)\u001b[0m\u001b[0;34m\u001b[0m\u001b[0;34m\u001b[0m\u001b[0m\n\u001b[0m\u001b[1;32m     19\u001b[0m \u001b[0;34m\u001b[0m\u001b[0m\n\u001b[1;32m     20\u001b[0m             \u001b[0msim\u001b[0m\u001b[0;34m.\u001b[0m\u001b[0mmove_to_hel\u001b[0m\u001b[0;34m(\u001b[0m\u001b[0;34m)\u001b[0m\u001b[0;34m\u001b[0m\u001b[0;34m\u001b[0m\u001b[0m\n",
      "\u001b[0;32m<ipython-input-6-712a5caff2d4>\u001b[0m in \u001b[0;36msimulate_fly_by\u001b[0;34m(sim, intruder, visualize)\u001b[0m\n\u001b[1;32m      9\u001b[0m     \u001b[0;32mwhile\u001b[0m \u001b[0;32mTrue\u001b[0m\u001b[0;34m:\u001b[0m\u001b[0;34m\u001b[0m\u001b[0;34m\u001b[0m\u001b[0m\n\u001b[1;32m     10\u001b[0m         \u001b[0;32mtry\u001b[0m\u001b[0;34m:\u001b[0m\u001b[0;34m\u001b[0m\u001b[0;34m\u001b[0m\u001b[0m\n\u001b[0;32m---> 11\u001b[0;31m             \u001b[0msim\u001b[0m\u001b[0;34m.\u001b[0m\u001b[0mintegrate\u001b[0m\u001b[0;34m(\u001b[0m\u001b[0msim\u001b[0m\u001b[0;34m.\u001b[0m\u001b[0mt\u001b[0m\u001b[0;34m+\u001b[0m\u001b[0;36m5\u001b[0m\u001b[0;34m)\u001b[0m\u001b[0;34m\u001b[0m\u001b[0;34m\u001b[0m\u001b[0m\n\u001b[0m\u001b[1;32m     12\u001b[0m \u001b[0;34m\u001b[0m\u001b[0m\n\u001b[1;32m     13\u001b[0m             \u001b[0;32mif\u001b[0m \u001b[0mvisualize\u001b[0m\u001b[0;34m:\u001b[0m\u001b[0;34m\u001b[0m\u001b[0;34m\u001b[0m\u001b[0m\n",
      "\u001b[0;32m~/.local/lib/python3.6/site-packages/rebound/simulation.py\u001b[0m in \u001b[0;36mintegrate\u001b[0;34m(self, tmax, exact_finish_time)\u001b[0m\n\u001b[1;32m   1508\u001b[0m                 \u001b[0;32mraise\u001b[0m \u001b[0mEscape\u001b[0m\u001b[0;34m(\u001b[0m\u001b[0;34m\"User caused exit. Simulation did not finish.\"\u001b[0m\u001b[0;34m)\u001b[0m \u001b[0;31m# should not occur in python\u001b[0m\u001b[0;34m\u001b[0m\u001b[0;34m\u001b[0m\u001b[0m\n\u001b[1;32m   1509\u001b[0m             \u001b[0;32mif\u001b[0m \u001b[0mret_value\u001b[0m \u001b[0;34m==\u001b[0m \u001b[0;36m6\u001b[0m\u001b[0;34m:\u001b[0m\u001b[0;34m\u001b[0m\u001b[0;34m\u001b[0m\u001b[0m\n\u001b[0;32m-> 1510\u001b[0;31m                 \u001b[0;32mraise\u001b[0m \u001b[0mKeyboardInterrupt\u001b[0m\u001b[0;34m\u001b[0m\u001b[0;34m\u001b[0m\u001b[0m\n\u001b[0m\u001b[1;32m   1511\u001b[0m             \u001b[0;32mif\u001b[0m \u001b[0mret_value\u001b[0m \u001b[0;34m==\u001b[0m \u001b[0;36m7\u001b[0m\u001b[0;34m:\u001b[0m\u001b[0;34m\u001b[0m\u001b[0;34m\u001b[0m\u001b[0m\n\u001b[1;32m   1512\u001b[0m                 \u001b[0;32mraise\u001b[0m \u001b[0mCollision\u001b[0m\u001b[0;34m(\u001b[0m\u001b[0;34m\"Two particles collided (d < r1+r2)\"\u001b[0m\u001b[0;34m)\u001b[0m\u001b[0;34m\u001b[0m\u001b[0;34m\u001b[0m\u001b[0m\n",
      "\u001b[0;31mKeyboardInterrupt\u001b[0m: "
     ]
    }
   ],
   "source": [
    "xs, f_eject = strong_regime(resolution=30, n_trials=5000)\n",
    "\n",
    "plt.plot(xs, f_eject)"
   ]
  },
  {
   "cell_type": "code",
   "execution_count": null,
   "metadata": {},
   "outputs": [],
   "source": [
    "plt.plot(xs, 1-f_eject)"
   ]
  },
  {
   "cell_type": "code",
   "execution_count": 32,
   "metadata": {},
   "outputs": [
    {
     "data": {
      "text/plain": [
       "array([1., 1., 5., 1., 1., 1., 1., 1., 1., 1.])"
      ]
     },
     "execution_count": 32,
     "metadata": {},
     "output_type": "execute_result"
    }
   ],
   "source": [
    "a = np.ones(10)\n",
    "a[2] = 5\n",
    "a\n"
   ]
  },
  {
   "cell_type": "code",
   "execution_count": 14,
   "metadata": {},
   "outputs": [],
   "source": [
    "def randomize_sim(sim):\n",
    "    sim.integrate(np.random.random()*10**3)\n",
    "    return sim\n",
    "    "
   ]
  },
  {
   "cell_type": "code",
   "execution_count": 15,
   "metadata": {},
   "outputs": [
    {
     "ename": "NameError",
     "evalue": "name 'x' is not defined",
     "output_type": "error",
     "traceback": [
      "\u001b[0;31m---------------------------------------------------------------------------\u001b[0m",
      "\u001b[0;31mNameError\u001b[0m                                 Traceback (most recent call last)",
      "\u001b[0;32m<ipython-input-15-2be4310f5a2b>\u001b[0m in \u001b[0;36m<module>\u001b[0;34m\u001b[0m\n\u001b[1;32m      1\u001b[0m \u001b[0msim\u001b[0m \u001b[0;34m=\u001b[0m \u001b[0mrebound\u001b[0m\u001b[0;34m.\u001b[0m\u001b[0mSimulation\u001b[0m\u001b[0;34m.\u001b[0m\u001b[0mfrom_file\u001b[0m\u001b[0;34m(\u001b[0m\u001b[0;34m\"solar_system_outer_planets.bin\"\u001b[0m\u001b[0;34m)\u001b[0m\u001b[0;34m\u001b[0m\u001b[0;34m\u001b[0m\u001b[0m\n\u001b[0;32m----> 2\u001b[0;31m \u001b[0mintruder\u001b[0m \u001b[0;34m=\u001b[0m \u001b[0mrebound\u001b[0m\u001b[0;34m.\u001b[0m\u001b[0mParticle\u001b[0m\u001b[0;34m(\u001b[0m\u001b[0mm\u001b[0m\u001b[0;34m=\u001b[0m\u001b[0;36m1.\u001b[0m\u001b[0;34m,\u001b[0m\u001b[0mx\u001b[0m\u001b[0;34m=\u001b[0m\u001b[0mx\u001b[0m\u001b[0;34m,\u001b[0m\u001b[0my\u001b[0m\u001b[0;34m=\u001b[0m\u001b[0;34m-\u001b[0m\u001b[0;36m1000.\u001b[0m\u001b[0;34m,\u001b[0m\u001b[0mvy\u001b[0m\u001b[0;34m=\u001b[0m\u001b[0;36m2.\u001b[0m\u001b[0;34m)\u001b[0m\u001b[0;34m\u001b[0m\u001b[0;34m\u001b[0m\u001b[0m\n\u001b[0m\u001b[1;32m      3\u001b[0m \u001b[0msimulate_fly_by\u001b[0m\u001b[0;34m(\u001b[0m\u001b[0msim\u001b[0m\u001b[0;34m,\u001b[0m \u001b[0mintruder\u001b[0m\u001b[0;34m,\u001b[0m \u001b[0mvisualize\u001b[0m\u001b[0;34m=\u001b[0m\u001b[0;32mTrue\u001b[0m\u001b[0;34m)\u001b[0m\u001b[0;34m\u001b[0m\u001b[0;34m\u001b[0m\u001b[0m\n",
      "\u001b[0;31mNameError\u001b[0m: name 'x' is not defined"
     ]
    }
   ],
   "source": [
    "sim = rebound.Simulation.from_file(\"solar_system_outer_planets.bin\")\n",
    "intruder = rebound.Particle(m=1.,x=x,y=-1000.,vy=2.)\n",
    "simulate_fly_by(sim, intruder, visualize=True)"
   ]
  },
  {
   "cell_type": "code",
   "execution_count": 13,
   "metadata": {},
   "outputs": [
    {
     "data": {
      "text/plain": [
       "0.030897078503559147"
      ]
     },
     "execution_count": 13,
     "metadata": {},
     "output_type": "execute_result"
    }
   ],
   "source": [
    "sim.particles[4].inc"
   ]
  }
 ],
 "metadata": {
  "kernelspec": {
   "display_name": "Python 3",
   "language": "python",
   "name": "python3"
  },
  "language_info": {
   "codemirror_mode": {
    "name": "ipython",
    "version": 3
   },
   "file_extension": ".py",
   "mimetype": "text/x-python",
   "name": "python",
   "nbconvert_exporter": "python",
   "pygments_lexer": "ipython3",
   "version": "3.6.7"
  }
 },
 "nbformat": 4,
 "nbformat_minor": 2
}
