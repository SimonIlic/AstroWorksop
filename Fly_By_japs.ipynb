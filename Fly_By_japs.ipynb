{
 "cells": [
  {
   "cell_type": "markdown",
   "metadata": {},
   "source": [
    "# Simulating fly-bys"
   ]
  },
  {
   "cell_type": "markdown",
   "metadata": {},
   "source": [
    "This notebook will take you through a simulation of fly-bys of a star perturbing a planetary system."
   ]
  },
  {
   "cell_type": "markdown",
   "metadata": {},
   "source": [
    "### Imports"
   ]
  },
  {
   "cell_type": "code",
   "execution_count": 1,
   "metadata": {},
   "outputs": [],
   "source": [
    "import rebound\n",
    "import numpy as np\n",
    "\n",
    "from IPython.display import display, clear_output\n",
    "import matplotlib.pyplot as plt"
   ]
  },
  {
   "cell_type": "markdown",
   "metadata": {},
   "source": [
    "### Setup\n",
    "Let's first create a simulation of our target planetary system. We'll use Sun and the outer planets of our solar system for now. Using NASA Horizons database to get the details of each object."
   ]
  },
  {
   "cell_type": "code",
   "execution_count": 2,
   "metadata": {},
   "outputs": [
    {
     "name": "stdout",
     "output_type": "stream",
     "text": [
      "Searching NASA Horizons for 'Sun'... Found: Sun (10).\n",
      "Searching NASA Horizons for 'Jupiter'... Found: Jupiter Barycenter (5).\n",
      "Searching NASA Horizons for 'Saturn'... Found: Saturn Barycenter (6).\n",
      "Searching NASA Horizons for 'Uranus'... Found: Uranus Barycenter (7).\n",
      "Searching NASA Horizons for 'Neptune'... Found: Neptune Barycenter (8).\n",
      "---------------------------------\n",
      "REBOUND version:     \t3.7.2\n",
      "REBOUND built on:    \tJan 14 2019 12:49:13\n",
      "Number of particles: \t5\n",
      "Selected integrator: \tias15\n",
      "Simulation time:     \t0.0000000000000000e+00\n",
      "Current timestep:    \t0.001000\n",
      "---------------------------------\n",
      "<rebound.Particle object, m=1.0 x=-0.0009738244920448765 y=0.0074800052604446655 z=-5.177670441088709e-05 vx=-0.0004652332708092681 vy=0.00010092621370181953 vz=1.1986040203593559e-05>\n",
      "<rebound.Particle object, m=0.0009547919152112404 x=-1.9459229857062141 y=-4.967227073447018 z=0.06412922594990314 vx=0.40318224829229954 vy=-0.13909044082928165 vz=-0.008441761813847364>\n",
      "<rebound.Particle object, m=0.0002858856727222417 x=2.100524520117723 y=-9.829221587722184 z=0.08729104466444046 vx=0.2992763133079314 vy=0.0667548862342364 vz=-0.013074043250458398>\n",
      "<rebound.Particle object, m=4.36624373583127e-05 x=16.958499817522704 y=10.337927483677774 z=-0.18130427889862452 vx=-0.12068815184381738 vy=0.18456895859558192 vz=0.0022490578344376813>\n",
      "<rebound.Particle object, m=5.151383772628674e-05 x=29.002500933017657 y=-7.397133953919832 z=-0.5160618426701389 vx=0.043886886130545144 vy=0.17790948615468322 vz=-0.004675095456506094>\n",
      "---------------------------------\n"
     ]
    }
   ],
   "source": [
    "sim = rebound.Simulation()\n",
    "particle_names = [\"Sun\", \"Jupiter\", \"Saturn\", \"Uranus\", \"Neptune\"]\n",
    "# we use the NASA horizon database to look up the Sun and planets\n",
    "sim.add(particle_names)\n",
    "\n",
    "# let's give all the particles a unique hash (based on its name)\n",
    "for i, particle in enumerate(sim.particles):\n",
    "    particle.hash = particle_names[i]\n",
    "\n",
    "sim.status()\n",
    "    "
   ]
  },
  {
   "cell_type": "markdown",
   "metadata": {},
   "source": [
    "Let's save this simulation for future reference."
   ]
  },
  {
   "cell_type": "code",
   "execution_count": 3,
   "metadata": {},
   "outputs": [],
   "source": [
    "sim.save(\"solar_system_outer_planets.bin\")"
   ]
  },
  {
   "cell_type": "code",
   "execution_count": 4,
   "metadata": {},
   "outputs": [],
   "source": [
    "sim = rebound.Simulation.from_file(\"solar_system_outer_planets.bin\")"
   ]
  },
  {
   "cell_type": "markdown",
   "metadata": {},
   "source": [
    "Let's define a function that simulates a single fly-by given a certain system and a particle that will be intruding the system."
   ]
  },
  {
   "cell_type": "code",
   "execution_count": 5,
   "metadata": {},
   "outputs": [],
   "source": [
    "def simulate_fly_by(sim, intruder, visualize=False):\n",
    "    intruder.hash = \"intruder\"\n",
    "    \n",
    "    sim.add(intruder)\n",
    "    \n",
    "    intruder_distance = np.linalg.norm(sim.particles[\"intruder\"].xyz)\n",
    "    sim.exit_max_distance = intruder_distance*1.01\n",
    "    \n",
    "    while True:\n",
    "        try:\n",
    "            sim.integrate(sim.t+5)\n",
    "            \n",
    "            if visualize:\n",
    "                fig = rebound.OrbitPlot(sim,color=True,unitlabel=\"[AU]\")\n",
    "                display(fig)\n",
    "                plt.close(fig)\n",
    "                clear_output(wait=True)\n",
    "\n",
    "        except rebound.Escape as error:\n",
    "            #print(error)\n",
    "            for i, particle in enumerate(sim.particles):\n",
    "                distance = np.linalg.norm(particle.xyz)\n",
    "                if distance > sim.exit_max_distance:\n",
    "                    #print(\"Removed\", i, str(particle.hash))\n",
    "                    sim.remove(hash=particle.hash)\n",
    "                    sim.move_to_com()\n",
    "                    \n",
    "            return sim\n"
   ]
  },
  {
   "cell_type": "code",
   "execution_count": 6,
   "metadata": {},
   "outputs": [],
   "source": [
    "def calc_escape_velocity(sim, particle):\n",
    "    #sim.move_to_hel()\n",
    "    \n",
    "    r = np.linalg.norm(particle.xyz)\n",
    "    G = sim.G\n",
    "    m = sim.particles[0].m\n",
    "    \n",
    "    return np.sqrt(2 * G * m / r)"
   ]
  },
  {
   "cell_type": "code",
   "execution_count": 7,
   "metadata": {},
   "outputs": [],
   "source": [
    "def strong_regime(resolution=100, n_trials=50):\n",
    "    print(\"Starting strong regime simulation with resolution {}, {} trials each...\".format(resolution, n_trials))\n",
    "    xs = np.linspace(1, 50, resolution)\n",
    "    f_eject = np.ones(resolution)\n",
    "    \n",
    "    for i, x in enumerate(xs):\n",
    "        print(\"Running r_min =\", x)\n",
    "        eject_count = 0.\n",
    "        \n",
    "        # run n_trials trials detecting ejection directly after fly-by\n",
    "        for j in range(n_trials):\n",
    "            # get a fresh simulation\n",
    "            sim = rebound.Simulation.from_file(\"solar_system_outer_planets.bin\")\n",
    "            sim = randomize_sim(sim)\n",
    "            \n",
    "            intruder = rebound.Particle(m=1.,x=x,y=-1000.,vy=2.)\n",
    "            \n",
    "            sim = simulate_fly_by(sim, intruder)\n",
    "            \n",
    "            sim.move_to_hel()\n",
    "            for particle in sim.particles:\n",
    "                v = np.linalg.norm(particle.vxyz)\n",
    "                v_esc = calc_escape_velocity(sim, particle)\n",
    "                if v > v_esc:\n",
    "                    eject_count += 1\n",
    "                    break\n",
    "        print(\"Detected\", eject_count, \"ejections out of\", n_trials, \"trials.\")\n",
    "        f_eject[i] = eject_count / n_trials\n",
    "        print(f_eject[i])\n",
    "\n",
    "    \n",
    "    return (xs, f_eject)            "
   ]
  },
  {
   "cell_type": "code",
   "execution_count": 69,
   "metadata": {},
   "outputs": [],
   "source": [
    "# function to check distances, returning 'True' if planets near eachother by mutual Hill radius\n",
    "from scipy import spatial\n",
    "import rebound\n",
    "import numpy as np\n",
    "\n",
    "\n",
    "def mutual_rhill(p1, p2):\n",
    "    \"\"\"\n",
    "    Calculates mutual Hill radius of particle 1 and 2.\n",
    "    \"\"\"\n",
    "    \n",
    "    rhill_m = (p1.a + p2.a) / 2. * ((p1.m + p2.m) / 3.)**(1/3.)\n",
    "    return rhill_m\n",
    "    \n",
    "\n",
    "def orbit_list(simulation, period, particle, step_size):\n",
    "    \"\"\"\n",
    "    Creates list of points on an orbit.\n",
    "    \"\"\"\n",
    "    locations = []\n",
    "    total_time = 0\n",
    "#     Temporary simulation, adding sun and the particle we want the orbit from\n",
    "    temp_sim = rebound.Simulation()\n",
    "    temp_sim.add(simulation.particles[0])\n",
    "    temp_sim.add(particle)\n",
    "    particle = temp_sim.particles[1]\n",
    "#     Integrating over exactly one orbit\n",
    "    while total_time < period:\n",
    "        temp_sim.integrate(temp_sim.t+step_size)\n",
    "        total_time += step_size\n",
    "        locations.append(particle.xyz)\n",
    "        \n",
    "    return np.array(locations)\n",
    "\n",
    "\n",
    "def check_orbit_crossing(simulation):\n",
    "    \"\"\"\n",
    "    Checks in a simulation whether any orbits cross.\n",
    "    \"\"\"\n",
    "    \n",
    "#     Creating and saving lists with points on orbits\n",
    "    locationslist = []\n",
    "    for i, particle in enumerate(simulation.particles[1:]):\n",
    "        orbit = particle.calculate_orbit()\n",
    "        step_size = orbit.P * orbit.rhill / (2 * np.pi * orbit.a)\n",
    "        locationslist.append(orbit_list(simulation, \n",
    "                                        orbit.P, particle, step_size))\n",
    "\n",
    "#     creating distance matrix\n",
    "    for i, loc1 in enumerate(locationslist):\n",
    "        for j, loc2 in enumerate(locationslist[i+1:]): \n",
    "            dist_mat = spatial.distance_matrix(loc1, loc2)\n",
    "            if dist_mat[np.where(dist_mat < mutual_rhill(simulation.particles[i+1], \n",
    "                                                         simulation.particles[j+i+2]))].size > 0:\n",
    "                print(f\"Planet {i+1} and {i+j+2} (counting from star) will collide!\")\n",
    "                return True\n",
    "            \n",
    "    return False"
   ]
  },
  {
   "cell_type": "markdown",
   "metadata": {},
   "source": [
    "Let's define a function to predict the stabillity of a system directly after a fly-by.\n",
    "\n",
    "Instabillity can be defined in a number of ways. The simplest being direct ejection from the system.\n",
    "\n",
    "This function will try to analyze the stability of a system based on direct observations of it's properties."
   ]
  },
  {
   "cell_type": "code",
   "execution_count": 3,
   "metadata": {},
   "outputs": [],
   "source": [
    "def analyze_stability(sim):\n",
    "    \n",
    "    if check_immediate_ejection(sim) == True:\n",
    "        return False\n",
    "    \n",
    "    elif check_orbit_crossing(sim) == True:\n",
    "        return False\n",
    "    \n",
    "    elif check_kozai(sim) == True:\n",
    "        return False\n",
    "    \n",
    "    elif check_AMD(sim) == True:\n",
    "        return False\n",
    "    \n",
    "    else:\n",
    "        return True\n",
    "    \n",
    "    \n",
    "    \n",
    "    \n",
    "    "
   ]
  },
  {
   "cell_type": "code",
   "execution_count": 10,
   "metadata": {},
   "outputs": [],
   "source": [
    "def check_immediate_ejection(sim):\n",
    "    # move to Sun frame\n",
    "    sim.move_to_hel()\n",
    "    \n",
    "    # calculate velocity of each particle and compare to escpae velocity\n",
    "    for particle in sim.particles:\n",
    "        v = np.linalg.norm(particle.vxyz)\n",
    "        v_esc = calc_escape_velocity(sim, particle)\n",
    "        if v >= v_esc:\n",
    "            return True\n",
    "    \n",
    "    return False\n",
    "    \n"
   ]
  },
  {
   "cell_type": "code",
   "execution_count": 11,
   "metadata": {},
   "outputs": [
    {
     "name": "stdout",
     "output_type": "stream",
     "text": [
      "Starting strong regime simulation with resolution 30, 5000 trials each...\n",
      "Running r_min = 1.0\n"
     ]
    },
    {
     "ename": "NameError",
     "evalue": "name 'randomize_sim' is not defined",
     "output_type": "error",
     "traceback": [
      "\u001b[0;31m---------------------------------------------------------------------------\u001b[0m",
      "\u001b[0;31mNameError\u001b[0m                                 Traceback (most recent call last)",
      "\u001b[0;32m<ipython-input-11-04c07c5b227f>\u001b[0m in \u001b[0;36m<module>\u001b[0;34m\u001b[0m\n\u001b[0;32m----> 1\u001b[0;31m \u001b[0mxs\u001b[0m\u001b[0;34m,\u001b[0m \u001b[0mf_eject\u001b[0m \u001b[0;34m=\u001b[0m \u001b[0mstrong_regime\u001b[0m\u001b[0;34m(\u001b[0m\u001b[0mresolution\u001b[0m\u001b[0;34m=\u001b[0m\u001b[0;36m30\u001b[0m\u001b[0;34m,\u001b[0m \u001b[0mn_trials\u001b[0m\u001b[0;34m=\u001b[0m\u001b[0;36m5000\u001b[0m\u001b[0;34m)\u001b[0m\u001b[0;34m\u001b[0m\u001b[0;34m\u001b[0m\u001b[0m\n\u001b[0m\u001b[1;32m      2\u001b[0m \u001b[0;34m\u001b[0m\u001b[0m\n\u001b[1;32m      3\u001b[0m \u001b[0mplt\u001b[0m\u001b[0;34m.\u001b[0m\u001b[0mplot\u001b[0m\u001b[0;34m(\u001b[0m\u001b[0mxs\u001b[0m\u001b[0;34m,\u001b[0m \u001b[0mf_eject\u001b[0m\u001b[0;34m)\u001b[0m\u001b[0;34m\u001b[0m\u001b[0;34m\u001b[0m\u001b[0m\n",
      "\u001b[0;32m<ipython-input-7-25866587a242>\u001b[0m in \u001b[0;36mstrong_regime\u001b[0;34m(resolution, n_trials)\u001b[0m\n\u001b[1;32m     12\u001b[0m             \u001b[0;31m# get a fresh simulation\u001b[0m\u001b[0;34m\u001b[0m\u001b[0;34m\u001b[0m\u001b[0;34m\u001b[0m\u001b[0m\n\u001b[1;32m     13\u001b[0m             \u001b[0msim\u001b[0m \u001b[0;34m=\u001b[0m \u001b[0mrebound\u001b[0m\u001b[0;34m.\u001b[0m\u001b[0mSimulation\u001b[0m\u001b[0;34m.\u001b[0m\u001b[0mfrom_file\u001b[0m\u001b[0;34m(\u001b[0m\u001b[0;34m\"solar_system_outer_planets.bin\"\u001b[0m\u001b[0;34m)\u001b[0m\u001b[0;34m\u001b[0m\u001b[0;34m\u001b[0m\u001b[0m\n\u001b[0;32m---> 14\u001b[0;31m             \u001b[0msim\u001b[0m \u001b[0;34m=\u001b[0m \u001b[0mrandomize_sim\u001b[0m\u001b[0;34m(\u001b[0m\u001b[0msim\u001b[0m\u001b[0;34m)\u001b[0m\u001b[0;34m\u001b[0m\u001b[0;34m\u001b[0m\u001b[0m\n\u001b[0m\u001b[1;32m     15\u001b[0m \u001b[0;34m\u001b[0m\u001b[0m\n\u001b[1;32m     16\u001b[0m             \u001b[0mintruder\u001b[0m \u001b[0;34m=\u001b[0m \u001b[0mrebound\u001b[0m\u001b[0;34m.\u001b[0m\u001b[0mParticle\u001b[0m\u001b[0;34m(\u001b[0m\u001b[0mm\u001b[0m\u001b[0;34m=\u001b[0m\u001b[0;36m1.\u001b[0m\u001b[0;34m,\u001b[0m\u001b[0mx\u001b[0m\u001b[0;34m=\u001b[0m\u001b[0mx\u001b[0m\u001b[0;34m,\u001b[0m\u001b[0my\u001b[0m\u001b[0;34m=\u001b[0m\u001b[0;34m-\u001b[0m\u001b[0;36m1000.\u001b[0m\u001b[0;34m,\u001b[0m\u001b[0mvy\u001b[0m\u001b[0;34m=\u001b[0m\u001b[0;36m2.\u001b[0m\u001b[0;34m)\u001b[0m\u001b[0;34m\u001b[0m\u001b[0;34m\u001b[0m\u001b[0m\n",
      "\u001b[0;31mNameError\u001b[0m: name 'randomize_sim' is not defined"
     ]
    }
   ],
   "source": [
    "xs, f_eject = strong_regime(resolution=30, n_trials=5000)\n",
    "\n",
    "plt.plot(xs, f_eject)"
   ]
  },
  {
   "cell_type": "code",
   "execution_count": null,
   "metadata": {},
   "outputs": [],
   "source": [
    "plt.plot(xs, 1-f_eject)"
   ]
  },
  {
   "cell_type": "code",
   "execution_count": null,
   "metadata": {},
   "outputs": [],
   "source": [
    "a = np.ones(10)\n",
    "a[2] = 5\n",
    "a\n"
   ]
  },
  {
   "cell_type": "code",
   "execution_count": null,
   "metadata": {},
   "outputs": [],
   "source": [
    "def randomize_sim(sim):\n",
    "    sim.integrate(np.random.random()*10**3)\n",
    "    return sim\n",
    "    "
   ]
  },
  {
   "cell_type": "code",
   "execution_count": null,
   "metadata": {},
   "outputs": [],
   "source": [
    "sim = rebound.Simulation.from_file(\"solar_system_outer_planets.bin\")\n",
    "intruder = rebound.Particle(m=1.,x=x,y=-1000.,vy=2.)\n",
    "simulate_fly_by(sim, intruder, visualize=True)"
   ]
  }
 ],
 "metadata": {
  "kernelspec": {
   "display_name": "Python 3",
   "language": "python",
   "name": "python3"
  },
  "language_info": {
   "codemirror_mode": {
    "name": "ipython",
    "version": 3
   },
   "file_extension": ".py",
   "mimetype": "text/x-python",
   "name": "python",
   "nbconvert_exporter": "python",
   "pygments_lexer": "ipython3",
   "version": "3.6.7"
  }
 },
 "nbformat": 4,
 "nbformat_minor": 2
}
