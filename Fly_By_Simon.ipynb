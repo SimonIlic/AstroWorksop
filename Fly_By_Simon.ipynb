{
 "cells": [
  {
   "cell_type": "markdown",
   "metadata": {},
   "source": [
    "# Simulating fly-bys"
   ]
  },
  {
   "cell_type": "markdown",
   "metadata": {},
   "source": [
    "This notebook will take you through a simulation of fly-bys of a star perturbing a planetary system."
   ]
  },
  {
   "cell_type": "markdown",
   "metadata": {},
   "source": [
    "### Imports"
   ]
  },
  {
   "cell_type": "code",
   "execution_count": 10,
   "metadata": {},
   "outputs": [],
   "source": [
    "import rebound\n",
    "import numpy as np\n",
    "\n",
    "from IPython.display import display, clear_output\n",
    "import matplotlib.pyplot as plt"
   ]
  },
  {
   "cell_type": "markdown",
   "metadata": {},
   "source": [
    "### Setup\n",
    "Let's first create a simulation of our target planetary system. We'll use Sun and the outer planets of our solar system for now. Using NASA Horizons database to get the details of each object."
   ]
  },
  {
   "cell_type": "code",
   "execution_count": 2,
   "metadata": {},
   "outputs": [
    {
     "name": "stdout",
     "output_type": "stream",
     "text": [
      "Searching NASA Horizons for 'Sun'... "
     ]
    },
    {
     "ename": "KeyboardInterrupt",
     "evalue": "",
     "output_type": "error",
     "traceback": [
      "\u001b[0;31m---------------------------------------------------------------------------\u001b[0m",
      "\u001b[0;31mKeyboardInterrupt\u001b[0m                         Traceback (most recent call last)",
      "\u001b[0;32m<ipython-input-2-6a1ac0804d22>\u001b[0m in \u001b[0;36m<module>\u001b[0;34m\u001b[0m\n\u001b[1;32m      2\u001b[0m \u001b[0mparticle_names\u001b[0m \u001b[0;34m=\u001b[0m \u001b[0;34m[\u001b[0m\u001b[0;34m\"Sun\"\u001b[0m\u001b[0;34m,\u001b[0m \u001b[0;34m\"Jupiter\"\u001b[0m\u001b[0;34m,\u001b[0m \u001b[0;34m\"Saturn\"\u001b[0m\u001b[0;34m,\u001b[0m \u001b[0;34m\"Uranus\"\u001b[0m\u001b[0;34m,\u001b[0m \u001b[0;34m\"Neptune\"\u001b[0m\u001b[0;34m]\u001b[0m\u001b[0;34m\u001b[0m\u001b[0;34m\u001b[0m\u001b[0m\n\u001b[1;32m      3\u001b[0m \u001b[0;31m# we use the NASA horizon database to look up the Sun and planets\u001b[0m\u001b[0;34m\u001b[0m\u001b[0;34m\u001b[0m\u001b[0;34m\u001b[0m\u001b[0m\n\u001b[0;32m----> 4\u001b[0;31m \u001b[0msim\u001b[0m\u001b[0;34m.\u001b[0m\u001b[0madd\u001b[0m\u001b[0;34m(\u001b[0m\u001b[0mparticle_names\u001b[0m\u001b[0;34m)\u001b[0m\u001b[0;34m\u001b[0m\u001b[0;34m\u001b[0m\u001b[0m\n\u001b[0m\u001b[1;32m      5\u001b[0m \u001b[0;34m\u001b[0m\u001b[0m\n\u001b[1;32m      6\u001b[0m \u001b[0;31m# let's give all the particles a unique hash (based on its name)\u001b[0m\u001b[0;34m\u001b[0m\u001b[0;34m\u001b[0m\u001b[0;34m\u001b[0m\u001b[0m\n",
      "\u001b[0;32m~/.local/lib/python3.6/site-packages/rebound/simulation.py\u001b[0m in \u001b[0;36madd\u001b[0;34m(self, particle, **kwargs)\u001b[0m\n\u001b[1;32m   1078\u001b[0m             \u001b[0;32melif\u001b[0m \u001b[0misinstance\u001b[0m\u001b[0;34m(\u001b[0m\u001b[0mparticle\u001b[0m\u001b[0;34m,\u001b[0m \u001b[0mlist\u001b[0m\u001b[0;34m)\u001b[0m\u001b[0;34m:\u001b[0m\u001b[0;34m\u001b[0m\u001b[0;34m\u001b[0m\u001b[0m\n\u001b[1;32m   1079\u001b[0m                 \u001b[0;32mfor\u001b[0m \u001b[0mp\u001b[0m \u001b[0;32min\u001b[0m \u001b[0mparticle\u001b[0m\u001b[0;34m:\u001b[0m\u001b[0;34m\u001b[0m\u001b[0;34m\u001b[0m\u001b[0m\n\u001b[0;32m-> 1080\u001b[0;31m                     \u001b[0mself\u001b[0m\u001b[0;34m.\u001b[0m\u001b[0madd\u001b[0m\u001b[0;34m(\u001b[0m\u001b[0mp\u001b[0m\u001b[0;34m,\u001b[0m \u001b[0;34m**\u001b[0m\u001b[0mkwargs\u001b[0m\u001b[0;34m)\u001b[0m\u001b[0;34m\u001b[0m\u001b[0;34m\u001b[0m\u001b[0m\n\u001b[0m\u001b[1;32m   1081\u001b[0m             \u001b[0;32melif\u001b[0m \u001b[0misinstance\u001b[0m\u001b[0;34m(\u001b[0m\u001b[0mparticle\u001b[0m\u001b[0;34m,\u001b[0m\u001b[0mstr\u001b[0m\u001b[0;34m)\u001b[0m\u001b[0;34m:\u001b[0m\u001b[0;34m\u001b[0m\u001b[0;34m\u001b[0m\u001b[0m\n\u001b[1;32m   1082\u001b[0m                 \u001b[0;32mif\u001b[0m \u001b[0;32mNone\u001b[0m \u001b[0;32min\u001b[0m \u001b[0mself\u001b[0m\u001b[0;34m.\u001b[0m\u001b[0munits\u001b[0m\u001b[0;34m.\u001b[0m\u001b[0mvalues\u001b[0m\u001b[0;34m(\u001b[0m\u001b[0;34m)\u001b[0m\u001b[0;34m:\u001b[0m\u001b[0;34m\u001b[0m\u001b[0;34m\u001b[0m\u001b[0m\n",
      "\u001b[0;32m~/.local/lib/python3.6/site-packages/rebound/simulation.py\u001b[0m in \u001b[0;36madd\u001b[0;34m(self, particle, **kwargs)\u001b[0m\n\u001b[1;32m   1082\u001b[0m                 \u001b[0;32mif\u001b[0m \u001b[0;32mNone\u001b[0m \u001b[0;32min\u001b[0m \u001b[0mself\u001b[0m\u001b[0;34m.\u001b[0m\u001b[0munits\u001b[0m\u001b[0;34m.\u001b[0m\u001b[0mvalues\u001b[0m\u001b[0;34m(\u001b[0m\u001b[0;34m)\u001b[0m\u001b[0;34m:\u001b[0m\u001b[0;34m\u001b[0m\u001b[0;34m\u001b[0m\u001b[0m\n\u001b[1;32m   1083\u001b[0m                     \u001b[0mself\u001b[0m\u001b[0;34m.\u001b[0m\u001b[0munits\u001b[0m \u001b[0;34m=\u001b[0m \u001b[0;34m(\u001b[0m\u001b[0;34m'AU'\u001b[0m\u001b[0;34m,\u001b[0m \u001b[0;34m'yr2pi'\u001b[0m\u001b[0;34m,\u001b[0m \u001b[0;34m'Msun'\u001b[0m\u001b[0;34m)\u001b[0m\u001b[0;34m\u001b[0m\u001b[0;34m\u001b[0m\u001b[0m\n\u001b[0;32m-> 1084\u001b[0;31m                 \u001b[0mself\u001b[0m\u001b[0;34m.\u001b[0m\u001b[0madd\u001b[0m\u001b[0;34m(\u001b[0m\u001b[0mhorizons\u001b[0m\u001b[0;34m.\u001b[0m\u001b[0mgetParticle\u001b[0m\u001b[0;34m(\u001b[0m\u001b[0mparticle\u001b[0m\u001b[0;34m,\u001b[0m \u001b[0;34m**\u001b[0m\u001b[0mkwargs\u001b[0m\u001b[0;34m)\u001b[0m\u001b[0;34m,\u001b[0m \u001b[0mhash\u001b[0m\u001b[0;34m=\u001b[0m\u001b[0mparticle\u001b[0m\u001b[0;34m)\u001b[0m\u001b[0;34m\u001b[0m\u001b[0;34m\u001b[0m\u001b[0m\n\u001b[0m\u001b[1;32m   1085\u001b[0m                 \u001b[0munits_convert_particle\u001b[0m\u001b[0;34m(\u001b[0m\u001b[0mself\u001b[0m\u001b[0;34m.\u001b[0m\u001b[0mparticles\u001b[0m\u001b[0;34m[\u001b[0m\u001b[0;34m-\u001b[0m\u001b[0;36m1\u001b[0m\u001b[0;34m]\u001b[0m\u001b[0;34m,\u001b[0m \u001b[0;34m'km'\u001b[0m\u001b[0;34m,\u001b[0m \u001b[0;34m's'\u001b[0m\u001b[0;34m,\u001b[0m \u001b[0;34m'kg'\u001b[0m\u001b[0;34m,\u001b[0m \u001b[0mself\u001b[0m\u001b[0;34m.\u001b[0m\u001b[0m_units\u001b[0m\u001b[0;34m[\u001b[0m\u001b[0;34m'length'\u001b[0m\u001b[0;34m]\u001b[0m\u001b[0;34m,\u001b[0m \u001b[0mself\u001b[0m\u001b[0;34m.\u001b[0m\u001b[0m_units\u001b[0m\u001b[0;34m[\u001b[0m\u001b[0;34m'time'\u001b[0m\u001b[0;34m]\u001b[0m\u001b[0;34m,\u001b[0m \u001b[0mself\u001b[0m\u001b[0;34m.\u001b[0m\u001b[0m_units\u001b[0m\u001b[0;34m[\u001b[0m\u001b[0;34m'mass'\u001b[0m\u001b[0;34m]\u001b[0m\u001b[0;34m)\u001b[0m\u001b[0;34m\u001b[0m\u001b[0;34m\u001b[0m\u001b[0m\n\u001b[1;32m   1086\u001b[0m             \u001b[0;32melse\u001b[0m\u001b[0;34m:\u001b[0m\u001b[0;34m\u001b[0m\u001b[0;34m\u001b[0m\u001b[0m\n",
      "\u001b[0;32m~/.local/lib/python3.6/site-packages/rebound/horizons.py\u001b[0m in \u001b[0;36mgetParticle\u001b[0;34m(particle, m, x, y, z, vx, vy, vz, primary, a, anom, e, omega, inc, Omega, MEAN, date, plane)\u001b[0m\n\u001b[1;32m     81\u001b[0m     \u001b[0;32mwhile\u001b[0m \u001b[0;32mTrue\u001b[0m\u001b[0;34m:\u001b[0m\u001b[0;34m\u001b[0m\u001b[0;34m\u001b[0m\u001b[0m\n\u001b[1;32m     82\u001b[0m         \u001b[0;32mtry\u001b[0m\u001b[0;34m:\u001b[0m\u001b[0;34m\u001b[0m\u001b[0;34m\u001b[0m\u001b[0m\n\u001b[0;32m---> 83\u001b[0;31m             \u001b[0manswer\u001b[0m \u001b[0;34m=\u001b[0m \u001b[0mt\u001b[0m\u001b[0;34m.\u001b[0m\u001b[0mexpect\u001b[0m\u001b[0;34m(\u001b[0m\u001b[0mlist\u001b[0m\u001b[0;34m(\u001b[0m\u001b[0mi\u001b[0m\u001b[0;34m[\u001b[0m\u001b[0;36m0\u001b[0m\u001b[0;34m]\u001b[0m \u001b[0;32mfor\u001b[0m \u001b[0mi\u001b[0m \u001b[0;32min\u001b[0m \u001b[0mexpect\u001b[0m\u001b[0;34m)\u001b[0m\u001b[0;34m,\u001b[0m \u001b[0;36m8\u001b[0m\u001b[0;34m)\u001b[0m\u001b[0;34m\u001b[0m\u001b[0;34m\u001b[0m\u001b[0m\n\u001b[0m\u001b[1;32m     84\u001b[0m         \u001b[0;32mexcept\u001b[0m \u001b[0mEOFError\u001b[0m\u001b[0;34m:\u001b[0m\u001b[0;34m\u001b[0m\u001b[0;34m\u001b[0m\u001b[0m\n\u001b[1;32m     85\u001b[0m             \u001b[0;32mbreak\u001b[0m\u001b[0;34m\u001b[0m\u001b[0;34m\u001b[0m\u001b[0m\n",
      "\u001b[0;32m/usr/lib/python3.6/telnetlib.py\u001b[0m in \u001b[0;36mexpect\u001b[0;34m(self, list, timeout)\u001b[0m\n\u001b[1;32m    625\u001b[0m                         \u001b[0;32mreturn\u001b[0m \u001b[0;34m(\u001b[0m\u001b[0mi\u001b[0m\u001b[0;34m,\u001b[0m \u001b[0mm\u001b[0m\u001b[0;34m,\u001b[0m \u001b[0mtext\u001b[0m\u001b[0;34m)\u001b[0m\u001b[0;34m\u001b[0m\u001b[0;34m\u001b[0m\u001b[0m\n\u001b[1;32m    626\u001b[0m                 \u001b[0;32mif\u001b[0m \u001b[0mtimeout\u001b[0m \u001b[0;32mis\u001b[0m \u001b[0;32mnot\u001b[0m \u001b[0;32mNone\u001b[0m\u001b[0;34m:\u001b[0m\u001b[0;34m\u001b[0m\u001b[0;34m\u001b[0m\u001b[0m\n\u001b[0;32m--> 627\u001b[0;31m                     \u001b[0mready\u001b[0m \u001b[0;34m=\u001b[0m \u001b[0mselector\u001b[0m\u001b[0;34m.\u001b[0m\u001b[0mselect\u001b[0m\u001b[0;34m(\u001b[0m\u001b[0mtimeout\u001b[0m\u001b[0;34m)\u001b[0m\u001b[0;34m\u001b[0m\u001b[0;34m\u001b[0m\u001b[0m\n\u001b[0m\u001b[1;32m    628\u001b[0m                     \u001b[0mtimeout\u001b[0m \u001b[0;34m=\u001b[0m \u001b[0mdeadline\u001b[0m \u001b[0;34m-\u001b[0m \u001b[0m_time\u001b[0m\u001b[0;34m(\u001b[0m\u001b[0;34m)\u001b[0m\u001b[0;34m\u001b[0m\u001b[0;34m\u001b[0m\u001b[0m\n\u001b[1;32m    629\u001b[0m                     \u001b[0;32mif\u001b[0m \u001b[0;32mnot\u001b[0m \u001b[0mready\u001b[0m\u001b[0;34m:\u001b[0m\u001b[0;34m\u001b[0m\u001b[0;34m\u001b[0m\u001b[0m\n",
      "\u001b[0;32m/usr/lib/python3.6/selectors.py\u001b[0m in \u001b[0;36mselect\u001b[0;34m(self, timeout)\u001b[0m\n\u001b[1;32m    374\u001b[0m             \u001b[0mready\u001b[0m \u001b[0;34m=\u001b[0m \u001b[0;34m[\u001b[0m\u001b[0;34m]\u001b[0m\u001b[0;34m\u001b[0m\u001b[0;34m\u001b[0m\u001b[0m\n\u001b[1;32m    375\u001b[0m             \u001b[0;32mtry\u001b[0m\u001b[0;34m:\u001b[0m\u001b[0;34m\u001b[0m\u001b[0;34m\u001b[0m\u001b[0m\n\u001b[0;32m--> 376\u001b[0;31m                 \u001b[0mfd_event_list\u001b[0m \u001b[0;34m=\u001b[0m \u001b[0mself\u001b[0m\u001b[0;34m.\u001b[0m\u001b[0m_poll\u001b[0m\u001b[0;34m.\u001b[0m\u001b[0mpoll\u001b[0m\u001b[0;34m(\u001b[0m\u001b[0mtimeout\u001b[0m\u001b[0;34m)\u001b[0m\u001b[0;34m\u001b[0m\u001b[0;34m\u001b[0m\u001b[0m\n\u001b[0m\u001b[1;32m    377\u001b[0m             \u001b[0;32mexcept\u001b[0m \u001b[0mInterruptedError\u001b[0m\u001b[0;34m:\u001b[0m\u001b[0;34m\u001b[0m\u001b[0;34m\u001b[0m\u001b[0m\n\u001b[1;32m    378\u001b[0m                 \u001b[0;32mreturn\u001b[0m \u001b[0mready\u001b[0m\u001b[0;34m\u001b[0m\u001b[0;34m\u001b[0m\u001b[0m\n",
      "\u001b[0;31mKeyboardInterrupt\u001b[0m: "
     ]
    }
   ],
   "source": [
    "sim = rebound.Simulation()\n",
    "particle_names = [\"Sun\", \"Jupiter\", \"Saturn\", \"Uranus\", \"Neptune\"]\n",
    "# we use the NASA horizon database to look up the Sun and planets\n",
    "sim.add(particle_names)\n",
    "\n",
    "# let's give all the particles a unique hash (based on its name)\n",
    "for i, particle in enumerate(sim.particles):\n",
    "    particle.hash = particle_names[i]\n",
    "\n",
    "sim.status()\n",
    "    "
   ]
  },
  {
   "cell_type": "markdown",
   "metadata": {},
   "source": [
    "Let's save this simulation for future reference."
   ]
  },
  {
   "cell_type": "code",
   "execution_count": 6,
   "metadata": {},
   "outputs": [],
   "source": [
    "sim.save(\"solar_system_outer_planets.bin\")"
   ]
  },
  {
   "cell_type": "code",
   "execution_count": 2,
   "metadata": {},
   "outputs": [],
   "source": [
    "sim = rebound.Simulation.from_file(\"solar_system_outer_planets.bin\")"
   ]
  },
  {
   "cell_type": "markdown",
   "metadata": {},
   "source": [
    "Let's define a function that simulates a single fly-by given a certain system and a particle that will be intruding the system."
   ]
  },
  {
   "cell_type": "code",
   "execution_count": 57,
   "metadata": {},
   "outputs": [],
   "source": [
    "def simulate_fly_by(sim, intruder, visualize=False):\n",
    "    \n",
    "    intruder.hash = \"intruder\"\n",
    "    sim.add(intruder)\n",
    "    \n",
    "    intruder_distance = np.linalg.norm(sim.particles[\"intruder\"].xyz)\n",
    "    sim.exit_max_distance = intruder_distance*1.01\n",
    "    \n",
    "    while True:\n",
    "        try:\n",
    "            sim.integrate(sim.t+50)\n",
    "            \n",
    "            if visualize:\n",
    "                fig = rebound.OrbitPlot(sim,color=True,unitlabel=\"[AU]\")\n",
    "                display(fig)\n",
    "                plt.close(fig)\n",
    "                clear_output(wait=True)\n",
    "\n",
    "        except rebound.Escape as error:\n",
    "            if type(rebound.Escape()) == type(error):\n",
    "                print(\"joe\")\n",
    "            # remove intruder\n",
    "            sim.remove(hash=\"intruder\")\n",
    "            sim.move_to_com()\n",
    "                    \n",
    "            return sim\n"
   ]
  },
  {
   "cell_type": "code",
   "execution_count": 58,
   "metadata": {},
   "outputs": [],
   "source": [
    "def evolve_system(sim, t):\n",
    "    sim.exit_max_distance = 500\n",
    "    \n",
    "    close_encounters = []\n",
    "    ejections = []\n",
    "    # set planet radii to their hill spheres\n",
    "    for planet in sim.particles[1:]:\n",
    "        planet.r = hill_radius(planet, sim.particles[0])\n",
    "        \n",
    "    sim.collision = \"direct\"\n",
    "    \n",
    "    end_time = sim.t + t\n",
    "    while sim.t < end_time:\n",
    "        try:\n",
    "            sim.integrate(end_time)\n",
    "        except (rebound.Collision, rebound.Escape) as error:\n",
    "            sim.status()\n",
    "            if type(error) == type(rebound.Collision()):\n",
    "                print(error, sim.t)\n",
    "                collided = []\n",
    "                for particle in sim.particles:\n",
    "                    if particle.lastcollision == sim.t:\n",
    "                        collided.append(particle.index)\n",
    "                \n",
    "                planet_1 = sim.particles[collided[0]]\n",
    "                planet_2 = sim.particles[collided[1]]\n",
    "                \n",
    "                d = np.linalg.norm(np.array(planet_1.xyz) - np.array(planet_2.xyz))\n",
    "                print(planet_1.index, planet_2.index, \"close encounter. distance:\", d)\n",
    "            \n",
    "                resolve_collision(sim)\n",
    "                close_encounters.append(((planet_1.index, planet_2.index), d, sim.t))\n",
    "            \n",
    "            else:\n",
    "                print(error)\n",
    "                out_of_bounds = []\n",
    "                for i, particle in enumerate(sim.particles):\n",
    "                    distance = np.linalg.norm(particle.xyz)\n",
    "                    if distance > sim.exit_max_distance:\n",
    "                        print(\"Removed\", particle.index, str(particle.hash))\n",
    "                        out_of_bounds.append(particle.hash)\n",
    "                        ejections.append((particle.index, particle.xyz, sim.t))\n",
    "                \n",
    "                for hsh in out_of_bounds:\n",
    "                        sim.remove(hash=hsh)\n",
    "                        sim.move_to_com()\n",
    "                        \n",
    "    return (sim, close_encounters, ejections)\n",
    "    "
   ]
  },
  {
   "cell_type": "code",
   "execution_count": 59,
   "metadata": {},
   "outputs": [],
   "source": [
    "def resolve_collision(sim):\n",
    "    while True:\n",
    "        try:\n",
    "            sim.integrate(sim.t+0.1)\n",
    "            return\n",
    "        except:\n",
    "            #  integrate one step without collision detection\n",
    "            sim.collision = \"none\"\n",
    "            sim.step()\n",
    "            sim.collision = \"direct\"\n",
    "            "
   ]
  },
  {
   "cell_type": "code",
   "execution_count": 8,
   "metadata": {},
   "outputs": [
    {
     "name": "stdout",
     "output_type": "stream",
     "text": [
      "joe\n"
     ]
    }
   ],
   "source": [
    "sim = rebound.Simulation.from_file(\"solar_system_outer_planets.bin\")\n",
    "intruder = rebound.Particle(m=1.0,x=30.6,y=-1000.,vy=2.)\n",
    "sim = simulate_fly_by(sim, intruder)\n",
    "\n",
    "evolve_system(sim, 10**7)"
   ]
  },
  {
   "cell_type": "code",
   "execution_count": 29,
   "metadata": {},
   "outputs": [
    {
     "name": "stdout",
     "output_type": "stream",
     "text": [
      "c_uint(3000342645)\n",
      "c_uint(3586273463)\n",
      "c_uint(4066125545)\n",
      "c_uint(516400076)\n",
      "c_uint(1470785325)\n",
      "---------------------------------\n",
      "REBOUND version:     \t3.7.2\n",
      "REBOUND built on:    \tJan 24 2019 15:38:54\n",
      "Number of particles: \t5\n",
      "Selected integrator: \tias15\n",
      "Simulation time:     \t2.9558356028911448e+05\n",
      "Current timestep:    \t1.791724\n",
      "---------------------------------\n",
      "<rebound.Particle object, m=1.0 x=0.790392015242414 y=1.2800362480961802 z=0.010029648972591659 vx=-0.00042033941518836116 vy=0.000129634499445474 vz=1.1512510585973728e-05>\n",
      "<rebound.Particle object, m=0.0009547919152112404 x=-1.62321457248114 y=-3.5400958261243316 z=0.07831235094641473 vx=0.37710694334404987 vy=-0.19041810608900203 vz=-0.008487860358737817>\n",
      "<rebound.Particle object, m=0.0002858856727222417 x=7.393583393592568 y=-6.584560782884102 z=-0.07737077919291399 vx=0.22619076558664736 vy=0.1970974490642162 vz=-0.012280195894553527>\n",
      "<rebound.Particle object, m=4.36624373583127e-05 x=20.285578703970426 y=5.068961369614927 z=-0.1699924948259673 vx=-0.03753152207696022 vy=0.2173607793770524 vz=-0.001171635495776029>\n",
      "<rebound.Particle object, m=5.151383772628674e-05 x=-29.426637138743512 y=1.2303377352672789 z=0.7790018874643809 vx=-0.0013871251571211613 vy=-0.18148447152815594 vz=0.003644441722177916>\n",
      "---------------------------------\n"
     ]
    }
   ],
   "source": [
    "sim = rebound.Simulation.from_file(\"random_sims/solar_system_outer_planets_5788.bin\")\n",
    "for particle in sim.particles:\n",
    "    print(particle.hash)\n",
    "    \n",
    "sim.status()"
   ]
  },
  {
   "cell_type": "code",
   "execution_count": 60,
   "metadata": {},
   "outputs": [
    {
     "name": "stdout",
     "output_type": "stream",
     "text": [
      "joe\n"
     ]
    },
    {
     "ename": "AttributeError",
     "evalue": "module 'numpy' has no attribute 'arrange'",
     "output_type": "error",
     "traceback": [
      "\u001b[0;31m---------------------------------------------------------------------------\u001b[0m",
      "\u001b[0;31mAttributeError\u001b[0m                            Traceback (most recent call last)",
      "\u001b[0;32m<ipython-input-60-2b4c963521b8>\u001b[0m in \u001b[0;36m<module>\u001b[0;34m\u001b[0m\n\u001b[1;32m     30\u001b[0m \u001b[0;34m\u001b[0m\u001b[0m\n\u001b[1;32m     31\u001b[0m \u001b[0mejection_times\u001b[0m\u001b[0;34m.\u001b[0m\u001b[0msort\u001b[0m\u001b[0;34m(\u001b[0m\u001b[0;34m)\u001b[0m\u001b[0;34m\u001b[0m\u001b[0;34m\u001b[0m\u001b[0m\n\u001b[0;32m---> 32\u001b[0;31m \u001b[0mfraction_ejections\u001b[0m \u001b[0;34m=\u001b[0m \u001b[0mnp\u001b[0m\u001b[0;34m.\u001b[0m\u001b[0marrange\u001b[0m\u001b[0;34m(\u001b[0m\u001b[0;36m1\u001b[0m\u001b[0;34m,\u001b[0m \u001b[0mlen\u001b[0m\u001b[0;34m(\u001b[0m\u001b[0mejection_times\u001b[0m\u001b[0;34m)\u001b[0m \u001b[0;34m+\u001b[0m \u001b[0;36m1\u001b[0m\u001b[0;34m)\u001b[0m \u001b[0;34m/\u001b[0m \u001b[0mtotal_simulations\u001b[0m\u001b[0;34m\u001b[0m\u001b[0;34m\u001b[0m\u001b[0m\n\u001b[0m\u001b[1;32m     33\u001b[0m \u001b[0;34m\u001b[0m\u001b[0m\n\u001b[1;32m     34\u001b[0m \u001b[0;34m\u001b[0m\u001b[0m\n",
      "\u001b[0;31mAttributeError\u001b[0m: module 'numpy' has no attribute 'arrange'"
     ]
    }
   ],
   "source": [
    "total_simulations = 200\n",
    "max_evolve_time = 10**5\n",
    "a_list = np.linspace(0, 100, total_simulations)\n",
    "\n",
    "results = []\n",
    "\n",
    "close_encounter_times = []\n",
    "ejection_times = []\n",
    "\n",
    "for sim_n in range(total_simulations):\n",
    "    print(sim_n)\n",
    "    random_sim = rebound.Simulation.from_file(\"random_sims/solar_system_outer_planets_{:04d}.bin\".format(np.random.randint(0,10**4)))\n",
    "    random_sim.t = 0\n",
    "    intruder = rebound.Particle(m=1.0, x=a_list[sim_n], y=-1000., vy=2.)\n",
    "    \n",
    "    sim = simulate_fly_by(random_sim, intruder, visualize=True)\n",
    "    result = evolve_system(sim, max_evolve_time)\n",
    "    sim, close_encounters, ejections = result\n",
    "    \n",
    "    results.append(result)\n",
    "    \n",
    "    if close_encounters:\n",
    "        close_encounter_times.append(close_encounters[0][-1])\n",
    "        \n",
    "    if ejection_times:\n",
    "        ejection_times.append(ejections[0][-1])\n",
    "        \n",
    "close_encounter_times.sort()   \n",
    "fraction_encounters = np.arange(1, len(close_encounter_times) + 1) / total_simulations\n",
    "\n",
    "ejection_times.sort()\n",
    "fraction_ejections = np.arange(1, len(ejection_times) + 1) / total_simulations\n",
    "    \n",
    "    "
   ]
  },
  {
   "cell_type": "code",
   "execution_count": 74,
   "metadata": {},
   "outputs": [
    {
     "data": {
      "text/plain": [
       "[<matplotlib.lines.Line2D at 0x7f320ba89be0>]"
      ]
     },
     "execution_count": 74,
     "metadata": {},
     "output_type": "execute_result"
    },
    {
     "data": {
      "image/png": "[encoded data removed]",
      "text/plain": [
       "<Figure size 432x288 with 1 Axes>"
      ]
     },
     "metadata": {
      "needs_background": "light"
     },
     "output_type": "display_data"
    }
   ],
   "source": [
    "first_ejections_times = []\n",
    "for result in results:\n",
    "    if result[2]:\n",
    "        first_ejections_times.append(result[2][0][-1])\n",
    "\n",
    "first_ejections_times.sort()\n",
    "fraction_ejections = np.arange(1, len(first_ejections_times) + 1) / len(results)\n",
    "\n",
    "plt.plot(first_ejections_times, fraction_ejections)\n",
    "    \n",
    "    \n",
    "    \n",
    "    \n",
    "    \n",
    "    "
   ]
  },
  {
   "cell_type": "code",
   "execution_count": 12,
   "metadata": {},
   "outputs": [],
   "source": [
    "def hill_radius(planet, star):\n",
    "    return planet.a * (1 - planet.e) * np.cbrt(planet.m / (3. * star.m))"
   ]
  },
  {
   "cell_type": "code",
   "execution_count": 17,
   "metadata": {},
   "outputs": [
    {
     "name": "stdout",
     "output_type": "stream",
     "text": [
      "0 1\n",
      "0 2\n",
      "0 3\n",
      "1 2\n",
      "1 3\n",
      "2 3\n"
     ]
    },
    {
     "data": {
      "text/plain": [
       "array([[0.        , 0.54933768, 0.84528148, 1.22556907],\n",
       "       [0.54933768, 0.        , 0.6881079 , 0.95618489],\n",
       "       [0.84528148, 0.6881079 , 0.        , 0.77981562],\n",
       "       [1.22556907, 0.95618489, 0.77981562, 0.        ]])"
      ]
     },
     "execution_count": 17,
     "metadata": {},
     "output_type": "execute_result"
    }
   ],
   "source": [
    "def calc_mutual_hill_radii_matrix(sim):\n",
    "    host_star = sim.particles[0]\n",
    "    \n",
    "    hill_radii = np.zeros((len(sim.particles[1:]), len(sim.particles[1:])))\n",
    "\n",
    "    # find largest mutual hill radius in sim\n",
    "    for i, planet_1 in enumerate(sim.particles[1:]):\n",
    "        for j, planet_2 in enumerate(sim.particles[i+2:]):\n",
    "            j = j + i + 1\n",
    "            print(i,j)\n",
    "            mutual_hill_radius = calc_mutual_hill_radius(planet_1, planet_2, host_star.m)\n",
    "            hill_radii[i][j] = mutual_hill_radius\n",
    "            hill_radii[j][i] = mutual_hill_radius\n",
    "    \n",
    "    return hill_radii\n",
    "\n",
    "# TEST\n",
    "calc_mutual_hill_radii_matrix(sim)\n",
    "    "
   ]
  },
  {
   "cell_type": "code",
   "execution_count": 3,
   "metadata": {},
   "outputs": [],
   "source": [
    "def calc_mutual_hill_radius(p1, p2, m_host):\n",
    "    \"\"\"\n",
    "    Calculates mutual Hill radius of particle 1 and 2.\n",
    "    \"\"\"\n",
    "    mutual_hill_radius = (p1.a + p2.a) / 2. * np.cbrt((p1.m + p2.m) / (3. * m_host))\n",
    "    return mutual_hill_radius\n",
    "    "
   ]
  },
  {
   "cell_type": "code",
   "execution_count": 23,
   "metadata": {},
   "outputs": [],
   "source": [
    "def calc_escape_velocity(sim, particle):\n",
    "    #sim.move_to_hel()\n",
    "    \n",
    "    r = np.linalg.norm(particle.xyz)\n",
    "    G = sim.G\n",
    "    m = sim.particles[0].m\n",
    "    \n",
    "    return np.sqrt(2 * G * m / r)"
   ]
  },
  {
   "cell_type": "code",
   "execution_count": 37,
   "metadata": {},
   "outputs": [],
   "source": [
    "def strong_regime(resolution=100, n_trials=50):\n",
    "    print(\"Starting strong regime simulation with resolution {}, {} trials each...\".format(resolution, n_trials))\n",
    "    xs = np.linspace(1, 50, resolution)\n",
    "    f_eject = np.ones(resolution)\n",
    "    \n",
    "    for i, x in enumerate(xs):\n",
    "        print(\"Running r_min =\", x)\n",
    "        eject_count = 0.\n",
    "        \n",
    "        # run n_trials trials detecting ejection directly after fly-by\n",
    "        for j in range(n_trials):\n",
    "            # get a fresh simulation\n",
    "            sim = rebound.Simulation.from_file(\"solar_system_outer_planets.bin\")\n",
    "            sim = randomize_sim(sim)\n",
    "            \n",
    "            intruder = rebound.Particle(m=1.,x=x,y=-1000.,vy=2.)\n",
    "            \n",
    "            sim = simulate_fly_by(sim, intruder)\n",
    "            \n",
    "            sim.move_to_hel()\n",
    "            for particle in sim.particles:\n",
    "                v = np.linalg.norm(particle.vxyz)\n",
    "                v_esc = calc_escape_velocity(sim, particle)\n",
    "                if v > v_esc:\n",
    "                    eject_count += 1\n",
    "                    break\n",
    "        print(\"Detected\", eject_count, \"ejections out of\", n_trials, \"trials.\")\n",
    "        f_eject[i] = eject_count / n_trials\n",
    "        print(f_eject[i])\n",
    "\n",
    "    \n",
    "    return (xs, f_eject)            "
   ]
  },
  {
   "cell_type": "markdown",
   "metadata": {},
   "source": [
    "Let's define a function to predict the stabillity of a system directly after a fly-by.\n",
    "\n",
    "Instabillity can be defined in a number of ways. The simplest being direct ejection from the system.\n",
    "\n",
    "This function will try to analyze the stability of a system based on direct observations of it's orbits properties."
   ]
  },
  {
   "cell_type": "code",
   "execution_count": 25,
   "metadata": {},
   "outputs": [],
   "source": [
    "def analyze_stability(sim):\n",
    "    \"\"\"Check stabillity of an orbit return True if (possibly) stable, False if unstable\"\"\"\n",
    "    \n",
    "    if check_immediate_ejection(sim) == True:\n",
    "        return False\n",
    "    \n",
    "    elif check_orbit_crossing(sim) == True:\n",
    "        return False\n",
    "    \n",
    "    elif check_kozai(sim) == True:\n",
    "        return False\n",
    "    \n",
    "    elif check_AMD(sim) == True:\n",
    "        return False\n",
    "    \n",
    "    else:\n",
    "        return True\n",
    "    "
   ]
  },
  {
   "cell_type": "code",
   "execution_count": 26,
   "metadata": {},
   "outputs": [],
   "source": [
    "def check_immediate_ejection(sim):\n",
    "    # move to Sun frame\n",
    "    sim.move_to_hel()\n",
    "    \n",
    "    # calculate velocity of each particle and compare to escpae velocity\n",
    "    for particle in sim.particles:\n",
    "        v = np.linalg.norm(particle.vxyz)\n",
    "        v_esc = calc_escape_velocity(sim, particle)\n",
    "        if v >= v_esc:\n",
    "            return True\n",
    "    \n",
    "    return False\n",
    "    \n"
   ]
  },
  {
   "cell_type": "code",
   "execution_count": 19,
   "metadata": {},
   "outputs": [],
   "source": [
    "sim = rebound.Simulation()\n",
    "sim.add(m=1.)\n"
   ]
  },
  {
   "cell_type": "code",
   "execution_count": 27,
   "metadata": {},
   "outputs": [],
   "source": [
    "def check_kozai(sim):\n",
    "    # compare all particles\n",
    "    for i, particle_1 in enumerate(sim.particles[1:]):\n",
    "        for j, particle_2 in enumerate(sim.particles[i:]):\n",
    "            # calculate mutual inclination. defined as difference in inclination between two orbits\n",
    "            mutual_inclination = abs(particle_1.inc - particle_2.inc)\n",
    "            # check if mutual inclination is between 39.2 degrees and 140.2 degrees\n",
    "            if 0.684 <  mutual_inclination and mutual_inclination < 2.46:\n",
    "                return True\n",
    "    \n",
    "    return False\n",
    "            "
   ]
  },
  {
   "cell_type": "code",
   "execution_count": 30,
   "metadata": {},
   "outputs": [
    {
     "name": "stdout",
     "output_type": "stream",
     "text": [
      "Starting strong regime simulation with resolution 30, 100 trials each...\n",
      "Running r_min = 1.0\n"
     ]
    },
    {
     "name": "stderr",
     "output_type": "stream",
     "text": [
      "/home/simon/.local/lib/python3.6/site-packages/ipykernel_launcher.py:8: RuntimeWarning: divide by zero encountered in double_scalars\n",
      "  \n"
     ]
    },
    {
     "name": "stdout",
     "output_type": "stream",
     "text": [
      "Detected 100.0 ejections out of 100 trials.\n",
      "1.0\n",
      "Running r_min = 2.689655172413793\n",
      "Detected 100.0 ejections out of 100 trials.\n",
      "1.0\n",
      "Running r_min = 4.379310344827586\n",
      "Detected 94.0 ejections out of 100 trials.\n",
      "0.94\n",
      "Running r_min = 6.068965517241379\n",
      "Detected 82.0 ejections out of 100 trials.\n",
      "0.82\n",
      "Running r_min = 7.758620689655173\n",
      "Detected 83.0 ejections out of 100 trials.\n",
      "0.83\n",
      "Running r_min = 9.448275862068966\n",
      "Detected 69.0 ejections out of 100 trials.\n",
      "0.69\n",
      "Running r_min = 11.137931034482758\n",
      "Detected 67.0 ejections out of 100 trials.\n",
      "0.67\n",
      "Running r_min = 12.827586206896552\n",
      "Detected 49.0 ejections out of 100 trials.\n",
      "0.49\n",
      "Running r_min = 14.517241379310345\n",
      "Detected 50.0 ejections out of 100 trials.\n",
      "0.5\n",
      "Running r_min = 16.20689655172414\n",
      "Detected 44.0 ejections out of 100 trials.\n",
      "0.44\n",
      "Running r_min = 17.896551724137932\n",
      "Detected 32.0 ejections out of 100 trials.\n",
      "0.32\n",
      "Running r_min = 19.586206896551726\n",
      "Detected 35.0 ejections out of 100 trials.\n",
      "0.35\n",
      "Running r_min = 21.275862068965516\n",
      "Detected 32.0 ejections out of 100 trials.\n",
      "0.32\n",
      "Running r_min = 22.96551724137931\n",
      "Detected 25.0 ejections out of 100 trials.\n",
      "0.25\n",
      "Running r_min = 24.655172413793103\n",
      "Detected 27.0 ejections out of 100 trials.\n",
      "0.27\n",
      "Running r_min = 26.344827586206897\n",
      "Detected 39.0 ejections out of 100 trials.\n",
      "0.39\n",
      "Running r_min = 28.03448275862069\n",
      "Detected 23.0 ejections out of 100 trials.\n",
      "0.23\n",
      "Running r_min = 29.724137931034484\n",
      "Detected 14.0 ejections out of 100 trials.\n",
      "0.14\n",
      "Running r_min = 31.413793103448278\n",
      "Detected 15.0 ejections out of 100 trials.\n",
      "0.15\n",
      "Running r_min = 33.10344827586207\n",
      "Detected 16.0 ejections out of 100 trials.\n",
      "0.16\n",
      "Running r_min = 34.793103448275865\n",
      "Detected 13.0 ejections out of 100 trials.\n",
      "0.13\n",
      "Running r_min = 36.48275862068966\n",
      "Detected 0.0 ejections out of 100 trials.\n",
      "0.0\n",
      "Running r_min = 38.17241379310345\n",
      "Detected 0.0 ejections out of 100 trials.\n",
      "0.0\n",
      "Running r_min = 39.862068965517246\n",
      "Detected 0.0 ejections out of 100 trials.\n",
      "0.0\n",
      "Running r_min = 41.55172413793103\n",
      "Detected 0.0 ejections out of 100 trials.\n",
      "0.0\n",
      "Running r_min = 43.241379310344826\n",
      "Detected 0.0 ejections out of 100 trials.\n",
      "0.0\n",
      "Running r_min = 44.93103448275862\n",
      "Detected 0.0 ejections out of 100 trials.\n",
      "0.0\n",
      "Running r_min = 46.62068965517241\n",
      "Detected 0.0 ejections out of 100 trials.\n",
      "0.0\n",
      "Running r_min = 48.310344827586206\n",
      "Detected 0.0 ejections out of 100 trials.\n",
      "0.0\n",
      "Running r_min = 50.0\n",
      "Detected 0.0 ejections out of 100 trials.\n",
      "0.0\n"
     ]
    },
    {
     "data": {
      "text/plain": [
       "[<matplotlib.lines.Line2D at 0x7fb57a70ee10>]"
      ]
     },
     "execution_count": 30,
     "metadata": {},
     "output_type": "execute_result"
    },
    {
     "data": {
      "image/png": "[encoded data removed]",
      "text/plain": [
       "<Figure size 432x288 with 1 Axes>"
      ]
     },
     "metadata": {
      "needs_background": "light"
     },
     "output_type": "display_data"
    }
   ],
   "source": [
    "xs, f_eject = strong_regime(resolution=30, n_trials=100)\n",
    "\n",
    "plt.plot(xs, f_eject)"
   ]
  },
  {
   "cell_type": "code",
   "execution_count": 50,
   "metadata": {},
   "outputs": [
    {
     "data": {
      "text/plain": [
       "[<matplotlib.lines.Line2D at 0x7fc5c614dc88>]"
      ]
     },
     "execution_count": 50,
     "metadata": {},
     "output_type": "execute_result"
    },
    {
     "data": {
      "image/png": "[encoded data removed]",
      "text/plain": [
       "<Figure size 432x288 with 1 Axes>"
      ]
     },
     "metadata": {
      "needs_background": "light"
     },
     "output_type": "display_data"
    }
   ],
   "source": [
    "plt.plot(xs, 1-f_eject)"
   ]
  },
  {
   "cell_type": "code",
   "execution_count": 32,
   "metadata": {},
   "outputs": [
    {
     "data": {
      "text/plain": [
       "array([1., 1., 5., 1., 1., 1., 1., 1., 1., 1.])"
      ]
     },
     "execution_count": 32,
     "metadata": {},
     "output_type": "execute_result"
    }
   ],
   "source": [
    "a = np.ones(10)\n",
    "a[2] = 5\n",
    "a\n"
   ]
  },
  {
   "cell_type": "code",
   "execution_count": 29,
   "metadata": {},
   "outputs": [],
   "source": [
    "def randomize_sim(sim):\n",
    "    sim.integrate(np.random.random()*10**3)\n",
    "    return sim\n",
    "    "
   ]
  },
  {
   "cell_type": "code",
   "execution_count": 60,
   "metadata": {},
   "outputs": [
    {
     "data": {
      "text/plain": [
       "<rebound.simulation.Simulation at 0x7fc5c5dfc488>"
      ]
     },
     "execution_count": 60,
     "metadata": {},
     "output_type": "execute_result"
    }
   ],
   "source": [
    "sim = rebound.Simulation.from_file(\"solar_system_outer_planets.bin\")\n",
    "intruder = rebound.Particle(m=1.,x=x,y=-1000.,vy=2.)\n",
    "simulate_fly_by(sim, intruder, visualize=True)"
   ]
  },
  {
   "cell_type": "code",
   "execution_count": 13,
   "metadata": {},
   "outputs": [
    {
     "data": {
      "text/plain": [
       "0.030897078503559147"
      ]
     },
     "execution_count": 13,
     "metadata": {},
     "output_type": "execute_result"
    }
   ],
   "source": [
    "sim.particles[4].inc"
   ]
  }
 ],
 "metadata": {
  "kernelspec": {
   "display_name": "Python 3",
   "language": "python",
   "name": "python3"
  },
  "language_info": {
   "codemirror_mode": {
    "name": "ipython",
    "version": 3
   },
   "file_extension": ".py",
   "mimetype": "text/x-python",
   "name": "python",
   "nbconvert_exporter": "python",
   "pygments_lexer": "ipython3",
   "version": "3.6.7"
  }
 },
 "nbformat": 4,
 "nbformat_minor": 2
}
